{
 "cells": [
  {
   "cell_type": "code",
   "execution_count": 1,
   "metadata": {},
   "outputs": [],
   "source": [
    "import pandas as pd\n",
    "import numpy as np\n",
    "import seaborn as sns\n",
    "import statsmodels.formula.api as sm"
   ]
  },
  {
   "cell_type": "code",
   "execution_count": 2,
   "metadata": {},
   "outputs": [
    {
     "output_type": "execute_result",
     "data": {
      "text/plain": [
       "   CI  ISF  NASDAQ  NYSE  Other  one_m_diff_volume  three_m_diff_volume  \\\n",
       "0   1    0       1     0      0         -27.602686           -28.601259   \n",
       "1   1    1       1     0      0         219.559358           -45.717575   \n",
       "2   0    0       0     1      0         -28.898357            23.709987   \n",
       "3   0    1       0     1      0         -19.983171           247.877317   \n",
       "4   1    0       0     0      1         -96.741663           -94.926790   \n",
       "\n",
       "   six_m_diff_volume  one_y_diff_volume  one_m_diff_shareprice  \\\n",
       "0         -12.906301          63.017803               8.876830   \n",
       "1         150.587447          12.873300              -7.515141   \n",
       "2          25.032663          43.315739               4.152021   \n",
       "3         696.647198         544.352247             -23.834634   \n",
       "4         -98.501300         -94.113737              -7.085187   \n",
       "\n",
       "   three_m_diff_shareprice  six_m_diff_shareprice  one_y_diff_shareprice  \n",
       "0               -14.281478             -17.272690             -36.492656  \n",
       "1               -40.482228             -49.805155             -14.643252  \n",
       "2               -31.725230             -43.085234             -52.447342  \n",
       "3               -89.095128             -95.190888             -69.921957  \n",
       "4               -17.569188             -20.093245             -33.146868  "
      ],
      "text/html": "<div>\n<style scoped>\n    .dataframe tbody tr th:only-of-type {\n        vertical-align: middle;\n    }\n\n    .dataframe tbody tr th {\n        vertical-align: top;\n    }\n\n    .dataframe thead th {\n        text-align: right;\n    }\n</style>\n<table border=\"1\" class=\"dataframe\">\n  <thead>\n    <tr style=\"text-align: right;\">\n      <th></th>\n      <th>CI</th>\n      <th>ISF</th>\n      <th>NASDAQ</th>\n      <th>NYSE</th>\n      <th>Other</th>\n      <th>one_m_diff_volume</th>\n      <th>three_m_diff_volume</th>\n      <th>six_m_diff_volume</th>\n      <th>one_y_diff_volume</th>\n      <th>one_m_diff_shareprice</th>\n      <th>three_m_diff_shareprice</th>\n      <th>six_m_diff_shareprice</th>\n      <th>one_y_diff_shareprice</th>\n    </tr>\n  </thead>\n  <tbody>\n    <tr>\n      <th>0</th>\n      <td>1</td>\n      <td>0</td>\n      <td>1</td>\n      <td>0</td>\n      <td>0</td>\n      <td>-27.602686</td>\n      <td>-28.601259</td>\n      <td>-12.906301</td>\n      <td>63.017803</td>\n      <td>8.876830</td>\n      <td>-14.281478</td>\n      <td>-17.272690</td>\n      <td>-36.492656</td>\n    </tr>\n    <tr>\n      <th>1</th>\n      <td>1</td>\n      <td>1</td>\n      <td>1</td>\n      <td>0</td>\n      <td>0</td>\n      <td>219.559358</td>\n      <td>-45.717575</td>\n      <td>150.587447</td>\n      <td>12.873300</td>\n      <td>-7.515141</td>\n      <td>-40.482228</td>\n      <td>-49.805155</td>\n      <td>-14.643252</td>\n    </tr>\n    <tr>\n      <th>2</th>\n      <td>0</td>\n      <td>0</td>\n      <td>0</td>\n      <td>1</td>\n      <td>0</td>\n      <td>-28.898357</td>\n      <td>23.709987</td>\n      <td>25.032663</td>\n      <td>43.315739</td>\n      <td>4.152021</td>\n      <td>-31.725230</td>\n      <td>-43.085234</td>\n      <td>-52.447342</td>\n    </tr>\n    <tr>\n      <th>3</th>\n      <td>0</td>\n      <td>1</td>\n      <td>0</td>\n      <td>1</td>\n      <td>0</td>\n      <td>-19.983171</td>\n      <td>247.877317</td>\n      <td>696.647198</td>\n      <td>544.352247</td>\n      <td>-23.834634</td>\n      <td>-89.095128</td>\n      <td>-95.190888</td>\n      <td>-69.921957</td>\n    </tr>\n    <tr>\n      <th>4</th>\n      <td>1</td>\n      <td>0</td>\n      <td>0</td>\n      <td>0</td>\n      <td>1</td>\n      <td>-96.741663</td>\n      <td>-94.926790</td>\n      <td>-98.501300</td>\n      <td>-94.113737</td>\n      <td>-7.085187</td>\n      <td>-17.569188</td>\n      <td>-20.093245</td>\n      <td>-33.146868</td>\n    </tr>\n  </tbody>\n</table>\n</div>"
     },
     "metadata": {},
     "execution_count": 2
    }
   ],
   "source": [
    "data = pd.read_csv('stata_data.csv')\n",
    "data.head()"
   ]
  },
  {
   "cell_type": "code",
   "execution_count": 3,
   "metadata": {},
   "outputs": [
    {
     "output_type": "execute_result",
     "data": {
      "text/plain": [
       "               CI         ISF      NASDAQ        NYSE       Other  \\\n",
       "count  132.000000  132.000000  132.000000  132.000000  132.000000   \n",
       "mean     0.500000    0.500000    0.227273    0.651515    0.121212   \n",
       "std      0.501905    0.501905    0.420667    0.478306    0.327617   \n",
       "min      0.000000    0.000000    0.000000    0.000000    0.000000   \n",
       "25%      0.000000    0.000000    0.000000    0.000000    0.000000   \n",
       "50%      0.500000    0.500000    0.000000    1.000000    0.000000   \n",
       "75%      1.000000    1.000000    0.000000    1.000000    0.000000   \n",
       "max      1.000000    1.000000    1.000000    1.000000    1.000000   \n",
       "\n",
       "       one_m_diff_volume  three_m_diff_volume  six_m_diff_volume  \\\n",
       "count         132.000000           132.000000         132.000000   \n",
       "mean           60.818025            46.839914          39.549506   \n",
       "std           180.352142           172.425336         143.726748   \n",
       "min           -96.741663           -94.926790         -98.501300   \n",
       "25%           -37.161616           -45.059206         -44.744742   \n",
       "50%            -2.535607             3.452321          -2.116578   \n",
       "75%            86.802497            65.107916          79.594662   \n",
       "max          1042.660212          1400.809741         783.292137   \n",
       "\n",
       "       one_y_diff_volume  one_m_diff_shareprice  three_m_diff_shareprice  \\\n",
       "count         132.000000             132.000000               132.000000   \n",
       "mean           52.045339               0.449868                 1.041453   \n",
       "std           185.541864               8.096651                17.947686   \n",
       "min           -94.113737             -23.834634               -89.095128   \n",
       "25%           -33.637500              -3.223217                -6.988834   \n",
       "50%             4.991132               0.656898                 1.816616   \n",
       "75%            66.333246               5.624116                12.855617   \n",
       "max          1776.468798              24.101449                53.285290   \n",
       "\n",
       "       six_m_diff_shareprice  one_y_diff_shareprice  \n",
       "count             132.000000             132.000000  \n",
       "mean                6.738862              19.987007  \n",
       "std                27.600990              44.165397  \n",
       "min               -95.190888             -83.622947  \n",
       "25%                -7.042494              -5.269409  \n",
       "50%                 7.548548              17.584222  \n",
       "75%                16.380691              39.094520  \n",
       "max               161.231884             207.948924  "
      ],
      "text/html": "<div>\n<style scoped>\n    .dataframe tbody tr th:only-of-type {\n        vertical-align: middle;\n    }\n\n    .dataframe tbody tr th {\n        vertical-align: top;\n    }\n\n    .dataframe thead th {\n        text-align: right;\n    }\n</style>\n<table border=\"1\" class=\"dataframe\">\n  <thead>\n    <tr style=\"text-align: right;\">\n      <th></th>\n      <th>CI</th>\n      <th>ISF</th>\n      <th>NASDAQ</th>\n      <th>NYSE</th>\n      <th>Other</th>\n      <th>one_m_diff_volume</th>\n      <th>three_m_diff_volume</th>\n      <th>six_m_diff_volume</th>\n      <th>one_y_diff_volume</th>\n      <th>one_m_diff_shareprice</th>\n      <th>three_m_diff_shareprice</th>\n      <th>six_m_diff_shareprice</th>\n      <th>one_y_diff_shareprice</th>\n    </tr>\n  </thead>\n  <tbody>\n    <tr>\n      <th>count</th>\n      <td>132.000000</td>\n      <td>132.000000</td>\n      <td>132.000000</td>\n      <td>132.000000</td>\n      <td>132.000000</td>\n      <td>132.000000</td>\n      <td>132.000000</td>\n      <td>132.000000</td>\n      <td>132.000000</td>\n      <td>132.000000</td>\n      <td>132.000000</td>\n      <td>132.000000</td>\n      <td>132.000000</td>\n    </tr>\n    <tr>\n      <th>mean</th>\n      <td>0.500000</td>\n      <td>0.500000</td>\n      <td>0.227273</td>\n      <td>0.651515</td>\n      <td>0.121212</td>\n      <td>60.818025</td>\n      <td>46.839914</td>\n      <td>39.549506</td>\n      <td>52.045339</td>\n      <td>0.449868</td>\n      <td>1.041453</td>\n      <td>6.738862</td>\n      <td>19.987007</td>\n    </tr>\n    <tr>\n      <th>std</th>\n      <td>0.501905</td>\n      <td>0.501905</td>\n      <td>0.420667</td>\n      <td>0.478306</td>\n      <td>0.327617</td>\n      <td>180.352142</td>\n      <td>172.425336</td>\n      <td>143.726748</td>\n      <td>185.541864</td>\n      <td>8.096651</td>\n      <td>17.947686</td>\n      <td>27.600990</td>\n      <td>44.165397</td>\n    </tr>\n    <tr>\n      <th>min</th>\n      <td>0.000000</td>\n      <td>0.000000</td>\n      <td>0.000000</td>\n      <td>0.000000</td>\n      <td>0.000000</td>\n      <td>-96.741663</td>\n      <td>-94.926790</td>\n      <td>-98.501300</td>\n      <td>-94.113737</td>\n      <td>-23.834634</td>\n      <td>-89.095128</td>\n      <td>-95.190888</td>\n      <td>-83.622947</td>\n    </tr>\n    <tr>\n      <th>25%</th>\n      <td>0.000000</td>\n      <td>0.000000</td>\n      <td>0.000000</td>\n      <td>0.000000</td>\n      <td>0.000000</td>\n      <td>-37.161616</td>\n      <td>-45.059206</td>\n      <td>-44.744742</td>\n      <td>-33.637500</td>\n      <td>-3.223217</td>\n      <td>-6.988834</td>\n      <td>-7.042494</td>\n      <td>-5.269409</td>\n    </tr>\n    <tr>\n      <th>50%</th>\n      <td>0.500000</td>\n      <td>0.500000</td>\n      <td>0.000000</td>\n      <td>1.000000</td>\n      <td>0.000000</td>\n      <td>-2.535607</td>\n      <td>3.452321</td>\n      <td>-2.116578</td>\n      <td>4.991132</td>\n      <td>0.656898</td>\n      <td>1.816616</td>\n      <td>7.548548</td>\n      <td>17.584222</td>\n    </tr>\n    <tr>\n      <th>75%</th>\n      <td>1.000000</td>\n      <td>1.000000</td>\n      <td>0.000000</td>\n      <td>1.000000</td>\n      <td>0.000000</td>\n      <td>86.802497</td>\n      <td>65.107916</td>\n      <td>79.594662</td>\n      <td>66.333246</td>\n      <td>5.624116</td>\n      <td>12.855617</td>\n      <td>16.380691</td>\n      <td>39.094520</td>\n    </tr>\n    <tr>\n      <th>max</th>\n      <td>1.000000</td>\n      <td>1.000000</td>\n      <td>1.000000</td>\n      <td>1.000000</td>\n      <td>1.000000</td>\n      <td>1042.660212</td>\n      <td>1400.809741</td>\n      <td>783.292137</td>\n      <td>1776.468798</td>\n      <td>24.101449</td>\n      <td>53.285290</td>\n      <td>161.231884</td>\n      <td>207.948924</td>\n    </tr>\n  </tbody>\n</table>\n</div>"
     },
     "metadata": {},
     "execution_count": 3
    }
   ],
   "source": [
    "data.describe()"
   ]
  },
  {
   "cell_type": "code",
   "execution_count": 4,
   "metadata": {},
   "outputs": [
    {
     "output_type": "stream",
     "name": "stdout",
     "text": [
      "                              OLS Regression Results                             \n=================================================================================\nDep. Variable:     one_m_diff_shareprice   R-squared:                       0.098\nModel:                               OLS   Adj. R-squared:                  0.062\nMethod:                    Least Squares   F-statistic:                     2.125\nDate:                   Mon, 22 Feb 2021   Prob (F-statistic):             0.0666\nTime:                           04:25:51   Log-Likelihood:                -456.05\nNo. Observations:                    132   AIC:                             924.1\nDf Residuals:                        126   BIC:                             941.4\nDf Model:                              5                                         \nCovariance Type:                     HC0                                         \n=====================================================================================\n                        coef    std err          z      P>|z|      [0.025      0.975]\n-------------------------------------------------------------------------------------\nIntercept             2.6540      2.178      1.219      0.223      -1.615       6.923\nCI                    1.5291      1.350      1.133      0.257      -1.116       4.174\nISF                  -1.7334      1.337     -1.297      0.195      -4.353       0.887\nNASDAQ               -0.4496      2.664     -0.169      0.866      -5.670       4.771\nNYSE                 -1.9332      2.396     -0.807      0.420      -6.628       2.762\none_m_diff_volume    -0.0122      0.005     -2.663      0.008      -0.021      -0.003\n==============================================================================\nOmnibus:                        3.876   Durbin-Watson:                   1.996\nProb(Omnibus):                  0.144   Jarque-Bera (JB):                3.623\nSkew:                          -0.249   Prob(JB):                        0.163\nKurtosis:                       3.641   Cond. No.                         996.\n==============================================================================\n\nNotes:\n[1] Standard Errors are heteroscedasticity robust (HC0)\n"
     ]
    }
   ],
   "source": [
    "onemresult = sm.ols(formula=\"one_m_diff_shareprice ~ CI + ISF + NASDAQ + NYSE + one_m_diff_volume\", data=data).fit(cov_type='HC0')\n",
    "print(onemresult.summary())"
   ]
  },
  {
   "cell_type": "code",
   "execution_count": 5,
   "metadata": {},
   "outputs": [
    {
     "output_type": "stream",
     "name": "stdout",
     "text": [
      "                               OLS Regression Results                              \n===================================================================================\nDep. Variable:     three_m_diff_shareprice   R-squared:                       0.037\nModel:                                 OLS   Adj. R-squared:                 -0.001\nMethod:                      Least Squares   F-statistic:                    0.8796\nDate:                     Mon, 22 Feb 2021   Prob (F-statistic):              0.497\nTime:                             04:25:51   Log-Likelihood:                -565.44\nNo. Observations:                      132   AIC:                             1143.\nDf Residuals:                          126   BIC:                             1160.\nDf Model:                                5                                         \nCovariance Type:                       HC0                                         \n=======================================================================================\n                          coef    std err          z      P>|z|      [0.025      0.975]\n---------------------------------------------------------------------------------------\nIntercept               0.3003      4.211      0.071      0.943      -7.953       8.554\nCI                      5.2603      3.091      1.702      0.089      -0.798      11.318\nISF                    -2.6268      2.983     -0.881      0.378      -8.473       3.219\nNASDAQ                  0.6667      4.877      0.137      0.891      -8.892      10.226\nNYSE                   -0.4195      4.434     -0.095      0.925      -9.111       8.271\nthree_m_diff_volume    -0.0097      0.013     -0.753      0.452      -0.035       0.016\n==============================================================================\nOmnibus:                       34.733   Durbin-Watson:                   1.182\nProb(Omnibus):                  0.000   Jarque-Bera (JB):               94.276\nSkew:                          -0.989   Prob(JB):                     3.38e-21\nKurtosis:                       6.638   Cond. No.                         959.\n==============================================================================\n\nNotes:\n[1] Standard Errors are heteroscedasticity robust (HC0)\n"
     ]
    }
   ],
   "source": [
    "threemresult = sm.ols(formula=\"three_m_diff_shareprice ~ CI + ISF + NASDAQ + NYSE + three_m_diff_volume\", data=data).fit(cov_type='HC0')\n",
    "print(threemresult.summary())"
   ]
  },
  {
   "cell_type": "code",
   "execution_count": 6,
   "metadata": {},
   "outputs": [
    {
     "output_type": "stream",
     "name": "stdout",
     "text": [
      "                              OLS Regression Results                             \n=================================================================================\nDep. Variable:     six_m_diff_shareprice   R-squared:                       0.101\nModel:                               OLS   Adj. R-squared:                  0.065\nMethod:                    Least Squares   F-statistic:                     1.841\nDate:                   Mon, 22 Feb 2021   Prob (F-statistic):              0.110\nTime:                           04:25:51   Log-Likelihood:                -617.76\nNo. Observations:                    132   AIC:                             1248.\nDf Residuals:                        126   BIC:                             1265.\nDf Model:                              5                                         \nCovariance Type:                     HC0                                         \n=====================================================================================\n                        coef    std err          z      P>|z|      [0.025      0.975]\n-------------------------------------------------------------------------------------\nIntercept             2.4709      6.458      0.383      0.702     -10.187      15.129\nCI                    7.4393      4.577      1.625      0.104      -1.532      16.411\nISF                  -2.6030      4.525     -0.575      0.565     -11.471       6.265\nNASDAQ                7.1583      7.605      0.941      0.347      -7.746      22.063\nNYSE                  3.3512      7.111      0.471      0.637     -10.587      17.289\nsix_m_diff_volume    -0.0496      0.022     -2.210      0.027      -0.094      -0.006\n==============================================================================\nOmnibus:                       62.062   Durbin-Watson:                   1.455\nProb(Omnibus):                  0.000   Jarque-Bera (JB):              367.149\nSkew:                           1.498   Prob(JB):                     1.88e-80\nKurtosis:                      10.601   Cond. No.                         782.\n==============================================================================\n\nNotes:\n[1] Standard Errors are heteroscedasticity robust (HC0)\n"
     ]
    }
   ],
   "source": [
    "sixmresult = sm.ols(formula=\"six_m_diff_shareprice ~ CI + ISF + NASDAQ + NYSE + six_m_diff_volume\", data=data).fit(cov_type='HC0')\n",
    "print(sixmresult.summary())"
   ]
  },
  {
   "cell_type": "code",
   "execution_count": 7,
   "metadata": {},
   "outputs": [
    {
     "output_type": "stream",
     "name": "stdout",
     "text": [
      "                              OLS Regression Results                             \n=================================================================================\nDep. Variable:     one_y_diff_shareprice   R-squared:                       0.091\nModel:                               OLS   Adj. R-squared:                  0.055\nMethod:                    Least Squares   F-statistic:                     2.066\nDate:                   Mon, 22 Feb 2021   Prob (F-statistic):             0.0740\nTime:                           04:25:51   Log-Likelihood:                -680.52\nNo. Observations:                    132   AIC:                             1373.\nDf Residuals:                        126   BIC:                             1390.\nDf Model:                              5                                         \nCovariance Type:                     HC0                                         \n=====================================================================================\n                        coef    std err          z      P>|z|      [0.025      0.975]\n-------------------------------------------------------------------------------------\nIntercept            22.4119     18.576      1.207      0.228     -13.996      58.820\nCI                    9.5362      7.285      1.309      0.191      -4.743      23.815\nISF                  -8.0445      7.140     -1.127      0.260     -22.039       5.950\nNASDAQ               14.0190     17.552      0.799      0.424     -20.383      48.421\nNYSE                 -6.0803     16.694     -0.364      0.716     -38.801      26.640\none_y_diff_volume    -0.0460      0.025     -1.852      0.064      -0.095       0.003\n==============================================================================\nOmnibus:                       45.211   Durbin-Watson:                   1.787\nProb(Omnibus):                  0.000   Jarque-Bera (JB):              130.191\nSkew:                           1.292   Prob(JB):                     5.36e-29\nKurtosis:                       7.123   Cond. No.                     1.04e+03\n==============================================================================\n\nNotes:\n[1] Standard Errors are heteroscedasticity robust (HC0)\n[2] The condition number is large, 1.04e+03. This might indicate that there are\nstrong multicollinearity or other numerical problems.\n"
     ]
    }
   ],
   "source": [
    "oneyresult = sm.ols(formula=\"one_y_diff_shareprice ~ CI + ISF + NASDAQ + NYSE + one_y_diff_volume\", data=data).fit(cov_type='HC0')\n",
    "print(oneyresult.summary())"
   ]
  }
 ],
 "metadata": {
  "kernelspec": {
   "display_name": "Python 3",
   "language": "python",
   "name": "python3"
  },
  "language_info": {
   "codemirror_mode": {
    "name": "ipython",
    "version": 3
   },
   "file_extension": ".py",
   "mimetype": "text/x-python",
   "name": "python",
   "nbconvert_exporter": "python",
   "pygments_lexer": "ipython3",
   "version": "3.8.3"
  }
 },
 "nbformat": 4,
 "nbformat_minor": 4
}