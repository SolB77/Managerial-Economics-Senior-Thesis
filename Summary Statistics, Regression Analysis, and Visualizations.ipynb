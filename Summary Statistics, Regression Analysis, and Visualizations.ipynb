{
 "cells": [
  {
   "cell_type": "code",
   "execution_count": 1,
   "metadata": {},
   "outputs": [],
   "source": [
    "import pandas as pd\n",
    "import numpy as np\n",
    "import seaborn as sns\n",
    "import statsmodels.formula.api as sm"
   ]
  },
  {
   "cell_type": "code",
   "execution_count": 2,
   "metadata": {},
   "outputs": [
    {
     "output_type": "execute_result",
     "data": {
      "text/plain": [
       "   CI  NASDAQ  NYSE  Other  one_m_diff_volume  three_m_diff_volume  \\\n",
       "0   1       1     0      0        -895.427522            59.844623   \n",
       "1   0       0     1      0         -30.850147           945.455314   \n",
       "2   1       0     0      1        -554.300354         -1575.673774   \n",
       "3   0       1     0      0         668.970176            36.199911   \n",
       "4   1       0     1      0          93.397110          -184.947229   \n",
       "\n",
       "   six_m_diff_volume  one_y_diff_volume  one_m_diff_indexlevel  \\\n",
       "0       -1266.774608         -79.571963            -745.112262   \n",
       "1        2682.952851        1156.707753            1411.687961   \n",
       "2        -889.469531       -1987.576524            -271.522884   \n",
       "3        -379.726112         -33.908050              55.906646   \n",
       "4        -263.260859        -121.368822            -232.332845   \n",
       "\n",
       "   three_m_diff_indexlevel  six_m_diff_indexlevel  one_y_diff_indexlevel  \\\n",
       "0               471.397720           -1088.684905              71.782933   \n",
       "1               206.288461             593.639376              63.870915   \n",
       "2              2296.892408              69.992961             -68.893855   \n",
       "3                 8.322970             -11.165255               7.083142   \n",
       "4                77.247749             918.609076             150.694258   \n",
       "\n",
       "   one_m_diff_shareprice  three_m_diff_shareprice  six_m_diff_shareprice  \\\n",
       "0            -184.660191               183.459660             188.346252   \n",
       "1            -674.048964               180.833666             120.936221   \n",
       "2            -214.566151              -195.106740            -159.993790   \n",
       "3            -104.197427              -146.805878            -137.526202   \n",
       "4             117.842129               632.339710            -433.098300   \n",
       "\n",
       "   one_y_diff_shareprice  \n",
       "0             -59.873427  \n",
       "1              33.318400  \n",
       "2             -72.870661  \n",
       "3             -28.649221  \n",
       "4             171.927897  "
      ],
      "text/html": "<div>\n<style scoped>\n    .dataframe tbody tr th:only-of-type {\n        vertical-align: middle;\n    }\n\n    .dataframe tbody tr th {\n        vertical-align: top;\n    }\n\n    .dataframe thead th {\n        text-align: right;\n    }\n</style>\n<table border=\"1\" class=\"dataframe\">\n  <thead>\n    <tr style=\"text-align: right;\">\n      <th></th>\n      <th>CI</th>\n      <th>NASDAQ</th>\n      <th>NYSE</th>\n      <th>Other</th>\n      <th>one_m_diff_volume</th>\n      <th>three_m_diff_volume</th>\n      <th>six_m_diff_volume</th>\n      <th>one_y_diff_volume</th>\n      <th>one_m_diff_indexlevel</th>\n      <th>three_m_diff_indexlevel</th>\n      <th>six_m_diff_indexlevel</th>\n      <th>one_y_diff_indexlevel</th>\n      <th>one_m_diff_shareprice</th>\n      <th>three_m_diff_shareprice</th>\n      <th>six_m_diff_shareprice</th>\n      <th>one_y_diff_shareprice</th>\n    </tr>\n  </thead>\n  <tbody>\n    <tr>\n      <th>0</th>\n      <td>1</td>\n      <td>1</td>\n      <td>0</td>\n      <td>0</td>\n      <td>-895.427522</td>\n      <td>59.844623</td>\n      <td>-1266.774608</td>\n      <td>-79.571963</td>\n      <td>-745.112262</td>\n      <td>471.397720</td>\n      <td>-1088.684905</td>\n      <td>71.782933</td>\n      <td>-184.660191</td>\n      <td>183.459660</td>\n      <td>188.346252</td>\n      <td>-59.873427</td>\n    </tr>\n    <tr>\n      <th>1</th>\n      <td>0</td>\n      <td>0</td>\n      <td>1</td>\n      <td>0</td>\n      <td>-30.850147</td>\n      <td>945.455314</td>\n      <td>2682.952851</td>\n      <td>1156.707753</td>\n      <td>1411.687961</td>\n      <td>206.288461</td>\n      <td>593.639376</td>\n      <td>63.870915</td>\n      <td>-674.048964</td>\n      <td>180.833666</td>\n      <td>120.936221</td>\n      <td>33.318400</td>\n    </tr>\n    <tr>\n      <th>2</th>\n      <td>1</td>\n      <td>0</td>\n      <td>0</td>\n      <td>1</td>\n      <td>-554.300354</td>\n      <td>-1575.673774</td>\n      <td>-889.469531</td>\n      <td>-1987.576524</td>\n      <td>-271.522884</td>\n      <td>2296.892408</td>\n      <td>69.992961</td>\n      <td>-68.893855</td>\n      <td>-214.566151</td>\n      <td>-195.106740</td>\n      <td>-159.993790</td>\n      <td>-72.870661</td>\n    </tr>\n    <tr>\n      <th>3</th>\n      <td>0</td>\n      <td>1</td>\n      <td>0</td>\n      <td>0</td>\n      <td>668.970176</td>\n      <td>36.199911</td>\n      <td>-379.726112</td>\n      <td>-33.908050</td>\n      <td>55.906646</td>\n      <td>8.322970</td>\n      <td>-11.165255</td>\n      <td>7.083142</td>\n      <td>-104.197427</td>\n      <td>-146.805878</td>\n      <td>-137.526202</td>\n      <td>-28.649221</td>\n    </tr>\n    <tr>\n      <th>4</th>\n      <td>1</td>\n      <td>0</td>\n      <td>1</td>\n      <td>0</td>\n      <td>93.397110</td>\n      <td>-184.947229</td>\n      <td>-263.260859</td>\n      <td>-121.368822</td>\n      <td>-232.332845</td>\n      <td>77.247749</td>\n      <td>918.609076</td>\n      <td>150.694258</td>\n      <td>117.842129</td>\n      <td>632.339710</td>\n      <td>-433.098300</td>\n      <td>171.927897</td>\n    </tr>\n  </tbody>\n</table>\n</div>"
     },
     "metadata": {},
     "execution_count": 2
    }
   ],
   "source": [
    "data = pd.read_csv('stata_data.csv')\n",
    "data.head()"
   ]
  },
  {
   "cell_type": "code",
   "execution_count": 3,
   "metadata": {},
   "outputs": [
    {
     "output_type": "execute_result",
     "data": {
      "text/plain": [
       "              CI     NASDAQ       NYSE      Other  one_m_diff_volume  \\\n",
       "count  66.000000  66.000000  66.000000  66.000000          66.000000   \n",
       "mean    0.500000   0.227273   0.651515   0.121212        -178.077482   \n",
       "std     0.503831   0.422282   0.480142   0.328875         825.149800   \n",
       "min     0.000000   0.000000   0.000000   0.000000       -4054.212026   \n",
       "25%     0.000000   0.000000   0.000000   0.000000        -406.562010   \n",
       "50%     0.500000   0.000000   1.000000   0.000000        -136.401953   \n",
       "75%     1.000000   0.000000   1.000000   0.000000         -81.469383   \n",
       "max     1.000000   1.000000   1.000000   1.000000        3306.984427   \n",
       "\n",
       "       three_m_diff_volume  six_m_diff_volume  one_y_diff_volume  \\\n",
       "count            66.000000          66.000000       6.600000e+01   \n",
       "mean             27.181813        -240.084044               -inf   \n",
       "std            1499.997087         488.245144                NaN   \n",
       "min           -1932.667737       -1440.302398               -inf   \n",
       "25%            -282.233626        -348.104012      -2.228423e+02   \n",
       "50%            -143.676951        -161.947703      -1.221223e+02   \n",
       "75%             -35.230868        -119.680441      -7.754434e+01   \n",
       "max            9797.685894        2682.952851       1.104484e+04   \n",
       "\n",
       "       one_m_diff_indexlevel  three_m_diff_indexlevel  six_m_diff_indexlevel  \\\n",
       "count              61.000000                61.000000              61.000000   \n",
       "mean              -40.480174               333.974808             -84.848160   \n",
       "std               753.870332              2014.581715             447.235644   \n",
       "min             -4943.522224             -2538.819579           -1605.947187   \n",
       "25%              -199.499094              -111.001821            -145.936233   \n",
       "50%               -85.847667               -42.018040             -75.402891   \n",
       "75%               135.270615                77.247749              32.456705   \n",
       "max              1411.687961             10864.594069             918.609076   \n",
       "\n",
       "       one_y_diff_indexlevel  one_m_diff_shareprice  three_m_diff_shareprice  \\\n",
       "count              61.000000              66.000000                66.000000   \n",
       "mean              -53.217000                   -inf              -134.124077   \n",
       "std               178.907642                    NaN               716.091950   \n",
       "min              -721.548388                   -inf             -4498.516621   \n",
       "25%              -117.278129            -244.516266              -173.061435   \n",
       "50%               -47.565129            -100.177646               -66.406354   \n",
       "75%                69.072025             -21.946072                14.747138   \n",
       "max               295.474253            1736.059346              2609.007883   \n",
       "\n",
       "       six_m_diff_shareprice  one_y_diff_shareprice  \n",
       "count              66.000000              66.000000  \n",
       "mean             -201.883016            -130.220667  \n",
       "std               608.983249             848.598540  \n",
       "min             -3295.530440           -5254.652160  \n",
       "25%              -223.449680            -116.437971  \n",
       "50%               -86.185018             -45.494910  \n",
       "75%               -21.471032              20.720112  \n",
       "max              1125.549457            1521.637427  "
      ],
      "text/html": "<div>\n<style scoped>\n    .dataframe tbody tr th:only-of-type {\n        vertical-align: middle;\n    }\n\n    .dataframe tbody tr th {\n        vertical-align: top;\n    }\n\n    .dataframe thead th {\n        text-align: right;\n    }\n</style>\n<table border=\"1\" class=\"dataframe\">\n  <thead>\n    <tr style=\"text-align: right;\">\n      <th></th>\n      <th>CI</th>\n      <th>NASDAQ</th>\n      <th>NYSE</th>\n      <th>Other</th>\n      <th>one_m_diff_volume</th>\n      <th>three_m_diff_volume</th>\n      <th>six_m_diff_volume</th>\n      <th>one_y_diff_volume</th>\n      <th>one_m_diff_indexlevel</th>\n      <th>three_m_diff_indexlevel</th>\n      <th>six_m_diff_indexlevel</th>\n      <th>one_y_diff_indexlevel</th>\n      <th>one_m_diff_shareprice</th>\n      <th>three_m_diff_shareprice</th>\n      <th>six_m_diff_shareprice</th>\n      <th>one_y_diff_shareprice</th>\n    </tr>\n  </thead>\n  <tbody>\n    <tr>\n      <th>count</th>\n      <td>66.000000</td>\n      <td>66.000000</td>\n      <td>66.000000</td>\n      <td>66.000000</td>\n      <td>66.000000</td>\n      <td>66.000000</td>\n      <td>66.000000</td>\n      <td>6.600000e+01</td>\n      <td>61.000000</td>\n      <td>61.000000</td>\n      <td>61.000000</td>\n      <td>61.000000</td>\n      <td>66.000000</td>\n      <td>66.000000</td>\n      <td>66.000000</td>\n      <td>66.000000</td>\n    </tr>\n    <tr>\n      <th>mean</th>\n      <td>0.500000</td>\n      <td>0.227273</td>\n      <td>0.651515</td>\n      <td>0.121212</td>\n      <td>-178.077482</td>\n      <td>27.181813</td>\n      <td>-240.084044</td>\n      <td>-inf</td>\n      <td>-40.480174</td>\n      <td>333.974808</td>\n      <td>-84.848160</td>\n      <td>-53.217000</td>\n      <td>-inf</td>\n      <td>-134.124077</td>\n      <td>-201.883016</td>\n      <td>-130.220667</td>\n    </tr>\n    <tr>\n      <th>std</th>\n      <td>0.503831</td>\n      <td>0.422282</td>\n      <td>0.480142</td>\n      <td>0.328875</td>\n      <td>825.149800</td>\n      <td>1499.997087</td>\n      <td>488.245144</td>\n      <td>NaN</td>\n      <td>753.870332</td>\n      <td>2014.581715</td>\n      <td>447.235644</td>\n      <td>178.907642</td>\n      <td>NaN</td>\n      <td>716.091950</td>\n      <td>608.983249</td>\n      <td>848.598540</td>\n    </tr>\n    <tr>\n      <th>min</th>\n      <td>0.000000</td>\n      <td>0.000000</td>\n      <td>0.000000</td>\n      <td>0.000000</td>\n      <td>-4054.212026</td>\n      <td>-1932.667737</td>\n      <td>-1440.302398</td>\n      <td>-inf</td>\n      <td>-4943.522224</td>\n      <td>-2538.819579</td>\n      <td>-1605.947187</td>\n      <td>-721.548388</td>\n      <td>-inf</td>\n      <td>-4498.516621</td>\n      <td>-3295.530440</td>\n      <td>-5254.652160</td>\n    </tr>\n    <tr>\n      <th>25%</th>\n      <td>0.000000</td>\n      <td>0.000000</td>\n      <td>0.000000</td>\n      <td>0.000000</td>\n      <td>-406.562010</td>\n      <td>-282.233626</td>\n      <td>-348.104012</td>\n      <td>-2.228423e+02</td>\n      <td>-199.499094</td>\n      <td>-111.001821</td>\n      <td>-145.936233</td>\n      <td>-117.278129</td>\n      <td>-244.516266</td>\n      <td>-173.061435</td>\n      <td>-223.449680</td>\n      <td>-116.437971</td>\n    </tr>\n    <tr>\n      <th>50%</th>\n      <td>0.500000</td>\n      <td>0.000000</td>\n      <td>1.000000</td>\n      <td>0.000000</td>\n      <td>-136.401953</td>\n      <td>-143.676951</td>\n      <td>-161.947703</td>\n      <td>-1.221223e+02</td>\n      <td>-85.847667</td>\n      <td>-42.018040</td>\n      <td>-75.402891</td>\n      <td>-47.565129</td>\n      <td>-100.177646</td>\n      <td>-66.406354</td>\n      <td>-86.185018</td>\n      <td>-45.494910</td>\n    </tr>\n    <tr>\n      <th>75%</th>\n      <td>1.000000</td>\n      <td>0.000000</td>\n      <td>1.000000</td>\n      <td>0.000000</td>\n      <td>-81.469383</td>\n      <td>-35.230868</td>\n      <td>-119.680441</td>\n      <td>-7.754434e+01</td>\n      <td>135.270615</td>\n      <td>77.247749</td>\n      <td>32.456705</td>\n      <td>69.072025</td>\n      <td>-21.946072</td>\n      <td>14.747138</td>\n      <td>-21.471032</td>\n      <td>20.720112</td>\n    </tr>\n    <tr>\n      <th>max</th>\n      <td>1.000000</td>\n      <td>1.000000</td>\n      <td>1.000000</td>\n      <td>1.000000</td>\n      <td>3306.984427</td>\n      <td>9797.685894</td>\n      <td>2682.952851</td>\n      <td>1.104484e+04</td>\n      <td>1411.687961</td>\n      <td>10864.594069</td>\n      <td>918.609076</td>\n      <td>295.474253</td>\n      <td>1736.059346</td>\n      <td>2609.007883</td>\n      <td>1125.549457</td>\n      <td>1521.637427</td>\n    </tr>\n  </tbody>\n</table>\n</div>"
     },
     "metadata": {},
     "execution_count": 3
    }
   ],
   "source": [
    "data.describe()"
   ]
  },
  {
   "cell_type": "code",
   "execution_count": null,
   "metadata": {},
   "outputs": [],
   "source": [
    "onemresult = sm.ols(formula=\"one_m_diff_shareprice ~ CI + NASDAQ + NYSE + one_m_diff_volume + one_m_diff_index_level +\", data=data).fit()\n",
    "print(onemresult.summary())"
   ]
  },
  {
   "cell_type": "code",
   "execution_count": null,
   "metadata": {},
   "outputs": [],
   "source": [
    "threemresult = sm.ols(formula=\"three_m_diff ~ NYSE + CI\", data=data).fit()\n",
    "print(threemresult.summary())"
   ]
  },
  {
   "cell_type": "code",
   "execution_count": null,
   "metadata": {},
   "outputs": [],
   "source": [
    "sixmresult = sm.ols(formula=\"six_m_diff ~ NYSE + CI\", data=data).fit()\n",
    "print(sixmresult.summary())"
   ]
  },
  {
   "cell_type": "code",
   "execution_count": null,
   "metadata": {},
   "outputs": [],
   "source": [
    "oneyresult = sm.ols(formula=\"one_y_diff ~ NYSE + CI\", data=data).fit()\n",
    "print(oneyresult.summary())"
   ]
  }
 ],
 "metadata": {
  "kernelspec": {
   "display_name": "Python 3",
   "language": "python",
   "name": "python3"
  },
  "language_info": {
   "codemirror_mode": {
    "name": "ipython",
    "version": 3
   },
   "file_extension": ".py",
   "mimetype": "text/x-python",
   "name": "python",
   "nbconvert_exporter": "python",
   "pygments_lexer": "ipython3",
   "version": "3.8.3-final"
  }
 },
 "nbformat": 4,
 "nbformat_minor": 4
}