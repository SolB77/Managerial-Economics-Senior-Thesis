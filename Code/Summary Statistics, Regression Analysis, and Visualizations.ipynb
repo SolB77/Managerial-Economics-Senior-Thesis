{
 "cells": [
  {
   "source": [
    "# Summary Statistics, EDA, and Regression Analysis"
   ],
   "cell_type": "markdown",
   "metadata": {}
  },
  {
   "cell_type": "code",
   "execution_count": 1,
   "metadata": {},
   "outputs": [],
   "source": [
    "#Import Python Packages/Libraries\n",
    "import pandas as pd\n",
    "import numpy as np\n",
    "import matplotlib.pyplot as plt\n",
    "import matplotlib\n",
    "import seaborn as sns\n",
    "import statsmodels.formula.api as sm\n",
    "from stargazer.stargazer import Stargazer\n",
    "from IPython.core.display import HTML\n",
    "from pandas.plotting import table\n",
    "from tabulate import tabulate"
   ]
  },
  {
   "cell_type": "code",
   "execution_count": 2,
   "metadata": {},
   "outputs": [
    {
     "output_type": "execute_result",
     "data": {
      "text/plain": [
       "   CI  ISF  NASDAQ  NYSE  Other  one_m_diff_volume  three_m_diff_volume  \\\n",
       "0   1    0       1     0      0         -27.602686           -28.601259   \n",
       "1   1    1       1     0      0         219.559358           -45.717575   \n",
       "2   0    0       0     0      1         113.633717           -14.839600   \n",
       "3   0    1       0     0      1          28.894713           -14.088155   \n",
       "4   1    0       0     0      1         751.861702            10.715520   \n",
       "\n",
       "   six_m_diff_volume  one_y_diff_volume  two_y_diff_volume  ...  \\\n",
       "0         -12.906301          63.017803          75.875492  ...   \n",
       "1         150.587447          12.873300          42.148715  ...   \n",
       "2         -82.271666         -49.248440          38.959852  ...   \n",
       "3          72.496809         -45.839472         727.145834  ...   \n",
       "4         605.506608        4827.692308         463.908451  ...   \n",
       "\n",
       "   three_y_diff_sp500  Date_End(t=1)  Date_End(t=12)  Date_End(t=24)  \\\n",
       "0            5.121565     2008-08-31      2008-08-31      2008-08-31   \n",
       "1           -4.984293     2008-09-30      2009-08-31      2010-08-31   \n",
       "2            5.121565     2008-08-31      2008-08-31      2008-08-31   \n",
       "3           -4.984293     2008-09-30      2009-08-31      2010-08-31   \n",
       "4           27.737807     2017-09-30      2017-09-30      2017-09-30   \n",
       "\n",
       "   Date_End(t=3)  Date_End(t=36)  Date_End(t=6)  Sharing Firm Introduced  \\\n",
       "0     2008-08-31      2008-08-31     2008-08-31                       No   \n",
       "1     2008-11-30      2011-08-31     2009-02-28                      Yes   \n",
       "2     2008-08-31      2008-08-31     2008-08-31                       No   \n",
       "3     2008-11-30      2011-08-31     2009-02-28                      Yes   \n",
       "4     2017-09-30      2017-09-30     2017-09-30                       No   \n",
       "\n",
       "   Relatedness with Sharing Firm  Exchange  \n",
       "0                Closely Related    NASDAQ  \n",
       "1                Closely Related    NASDAQ  \n",
       "2           Less Closely Related     Other  \n",
       "3           Less Closely Related     Other  \n",
       "4                Closely Related     Other  \n",
       "\n",
       "[5 rows x 32 columns]"
      ],
      "text/html": "<div>\n<style scoped>\n    .dataframe tbody tr th:only-of-type {\n        vertical-align: middle;\n    }\n\n    .dataframe tbody tr th {\n        vertical-align: top;\n    }\n\n    .dataframe thead th {\n        text-align: right;\n    }\n</style>\n<table border=\"1\" class=\"dataframe\">\n  <thead>\n    <tr style=\"text-align: right;\">\n      <th></th>\n      <th>CI</th>\n      <th>ISF</th>\n      <th>NASDAQ</th>\n      <th>NYSE</th>\n      <th>Other</th>\n      <th>one_m_diff_volume</th>\n      <th>three_m_diff_volume</th>\n      <th>six_m_diff_volume</th>\n      <th>one_y_diff_volume</th>\n      <th>two_y_diff_volume</th>\n      <th>...</th>\n      <th>three_y_diff_sp500</th>\n      <th>Date_End(t=1)</th>\n      <th>Date_End(t=12)</th>\n      <th>Date_End(t=24)</th>\n      <th>Date_End(t=3)</th>\n      <th>Date_End(t=36)</th>\n      <th>Date_End(t=6)</th>\n      <th>Sharing Firm Introduced</th>\n      <th>Relatedness with Sharing Firm</th>\n      <th>Exchange</th>\n    </tr>\n  </thead>\n  <tbody>\n    <tr>\n      <th>0</th>\n      <td>1</td>\n      <td>0</td>\n      <td>1</td>\n      <td>0</td>\n      <td>0</td>\n      <td>-27.602686</td>\n      <td>-28.601259</td>\n      <td>-12.906301</td>\n      <td>63.017803</td>\n      <td>75.875492</td>\n      <td>...</td>\n      <td>5.121565</td>\n      <td>2008-08-31</td>\n      <td>2008-08-31</td>\n      <td>2008-08-31</td>\n      <td>2008-08-31</td>\n      <td>2008-08-31</td>\n      <td>2008-08-31</td>\n      <td>No</td>\n      <td>Closely Related</td>\n      <td>NASDAQ</td>\n    </tr>\n    <tr>\n      <th>1</th>\n      <td>1</td>\n      <td>1</td>\n      <td>1</td>\n      <td>0</td>\n      <td>0</td>\n      <td>219.559358</td>\n      <td>-45.717575</td>\n      <td>150.587447</td>\n      <td>12.873300</td>\n      <td>42.148715</td>\n      <td>...</td>\n      <td>-4.984293</td>\n      <td>2008-09-30</td>\n      <td>2009-08-31</td>\n      <td>2010-08-31</td>\n      <td>2008-11-30</td>\n      <td>2011-08-31</td>\n      <td>2009-02-28</td>\n      <td>Yes</td>\n      <td>Closely Related</td>\n      <td>NASDAQ</td>\n    </tr>\n    <tr>\n      <th>2</th>\n      <td>0</td>\n      <td>0</td>\n      <td>0</td>\n      <td>0</td>\n      <td>1</td>\n      <td>113.633717</td>\n      <td>-14.839600</td>\n      <td>-82.271666</td>\n      <td>-49.248440</td>\n      <td>38.959852</td>\n      <td>...</td>\n      <td>5.121565</td>\n      <td>2008-08-31</td>\n      <td>2008-08-31</td>\n      <td>2008-08-31</td>\n      <td>2008-08-31</td>\n      <td>2008-08-31</td>\n      <td>2008-08-31</td>\n      <td>No</td>\n      <td>Less Closely Related</td>\n      <td>Other</td>\n    </tr>\n    <tr>\n      <th>3</th>\n      <td>0</td>\n      <td>1</td>\n      <td>0</td>\n      <td>0</td>\n      <td>1</td>\n      <td>28.894713</td>\n      <td>-14.088155</td>\n      <td>72.496809</td>\n      <td>-45.839472</td>\n      <td>727.145834</td>\n      <td>...</td>\n      <td>-4.984293</td>\n      <td>2008-09-30</td>\n      <td>2009-08-31</td>\n      <td>2010-08-31</td>\n      <td>2008-11-30</td>\n      <td>2011-08-31</td>\n      <td>2009-02-28</td>\n      <td>Yes</td>\n      <td>Less Closely Related</td>\n      <td>Other</td>\n    </tr>\n    <tr>\n      <th>4</th>\n      <td>1</td>\n      <td>0</td>\n      <td>0</td>\n      <td>0</td>\n      <td>1</td>\n      <td>751.861702</td>\n      <td>10.715520</td>\n      <td>605.506608</td>\n      <td>4827.692308</td>\n      <td>463.908451</td>\n      <td>...</td>\n      <td>27.737807</td>\n      <td>2017-09-30</td>\n      <td>2017-09-30</td>\n      <td>2017-09-30</td>\n      <td>2017-09-30</td>\n      <td>2017-09-30</td>\n      <td>2017-09-30</td>\n      <td>No</td>\n      <td>Closely Related</td>\n      <td>Other</td>\n    </tr>\n  </tbody>\n</table>\n<p>5 rows × 32 columns</p>\n</div>"
     },
     "metadata": {},
     "execution_count": 2
    }
   ],
   "source": [
    "#Load data\n",
    "data = pd.read_csv('Data/stata_data.csv')\n",
    "data.head()"
   ]
  },
  {
   "cell_type": "code",
   "execution_count": 3,
   "metadata": {},
   "outputs": [
    {
     "output_type": "execute_result",
     "data": {
      "text/plain": [
       "(array([], dtype=int64), array([], dtype=int64))"
      ]
     },
     "metadata": {},
     "execution_count": 3
    }
   ],
   "source": [
    "#No Missing Data\n",
    "np.where(data.isnull())"
   ]
  },
  {
   "cell_type": "code",
   "execution_count": 4,
   "metadata": {},
   "outputs": [],
   "source": [
    "#Create New Dataframes with Variables for Each Time Period\n",
    "onemonthdata = data[['CI', 'ISF', 'NASDAQ', 'NYSE', 'Other', 'one_m_diff_volume', 'one_m_diff_shareprice', 'one_m_diff_sp500','Sharing Firm Introduced', 'Relatedness with Sharing Firm', 'Exchange']]\n",
    "threemonthdata = data[['CI', 'ISF', 'NASDAQ', 'NYSE', 'Other', 'three_m_diff_volume', 'three_m_diff_shareprice', 'three_m_diff_sp500','Sharing Firm Introduced', 'Relatedness with Sharing Firm', 'Exchange']]\n",
    "sixmonthdata = data[['CI', 'ISF', 'NASDAQ', 'NYSE', 'Other', 'six_m_diff_volume', 'six_m_diff_shareprice', 'six_m_diff_sp500','Sharing Firm Introduced', 'Relatedness with Sharing Firm', 'Exchange']]\n",
    "oneyeardata = data[['CI', 'ISF', 'NASDAQ', 'NYSE', 'Other', 'one_y_diff_volume', 'one_y_diff_shareprice', 'one_y_diff_sp500','Sharing Firm Introduced', 'Relatedness with Sharing Firm', 'Exchange']]\n",
    "twoyeardata = data[['CI', 'ISF', 'NASDAQ', 'NYSE', 'Other', 'two_y_diff_volume', 'two_y_diff_shareprice', 'two_y_diff_sp500','Sharing Firm Introduced', 'Relatedness with Sharing Firm', 'Exchange']]\n",
    "threeyeardata = data[['CI', 'ISF', 'NASDAQ', 'NYSE', 'Other', 'three_y_diff_volume', 'three_y_diff_shareprice', 'three_y_diff_sp500','Sharing Firm Introduced', 'Relatedness with Sharing Firm', 'Exchange']]"
   ]
  },
  {
   "source": [
    "## Descriptive Statistics Tables"
   ],
   "cell_type": "markdown",
   "metadata": {}
  },
  {
   "cell_type": "code",
   "execution_count": 5,
   "metadata": {},
   "outputs": [
    {
     "output_type": "execute_result",
     "data": {
      "text/plain": [
       "Sharing Firm Introduced                    No                       \\\n",
       "Relatedness with Sharing Firm Closely Related Less Closely Related   \n",
       "Exchange                                                             \n",
       "NASDAQ                                      8                    9   \n",
       "NYSE                                       21                   21   \n",
       "Other                                       3                    2   \n",
       "Total                                      32                   32   \n",
       "\n",
       "Sharing Firm Introduced                   Yes                      Total  \n",
       "Relatedness with Sharing Firm Closely Related Less Closely Related        \n",
       "Exchange                                                                  \n",
       "NASDAQ                                      8                    9    34  \n",
       "NYSE                                       21                   21    84  \n",
       "Other                                       3                    2    10  \n",
       "Total                                      32                   32   128  "
      ],
      "text/html": "<div>\n<style scoped>\n    .dataframe tbody tr th:only-of-type {\n        vertical-align: middle;\n    }\n\n    .dataframe tbody tr th {\n        vertical-align: top;\n    }\n\n    .dataframe thead tr th {\n        text-align: left;\n    }\n\n    .dataframe thead tr:last-of-type th {\n        text-align: right;\n    }\n</style>\n<table border=\"1\" class=\"dataframe\">\n  <thead>\n    <tr>\n      <th>Sharing Firm Introduced</th>\n      <th colspan=\"2\" halign=\"left\">No</th>\n      <th colspan=\"2\" halign=\"left\">Yes</th>\n      <th>Total</th>\n    </tr>\n    <tr>\n      <th>Relatedness with Sharing Firm</th>\n      <th>Closely Related</th>\n      <th>Less Closely Related</th>\n      <th>Closely Related</th>\n      <th>Less Closely Related</th>\n      <th></th>\n    </tr>\n    <tr>\n      <th>Exchange</th>\n      <th></th>\n      <th></th>\n      <th></th>\n      <th></th>\n      <th></th>\n    </tr>\n  </thead>\n  <tbody>\n    <tr>\n      <th>NASDAQ</th>\n      <td>8</td>\n      <td>9</td>\n      <td>8</td>\n      <td>9</td>\n      <td>34</td>\n    </tr>\n    <tr>\n      <th>NYSE</th>\n      <td>21</td>\n      <td>21</td>\n      <td>21</td>\n      <td>21</td>\n      <td>84</td>\n    </tr>\n    <tr>\n      <th>Other</th>\n      <td>3</td>\n      <td>2</td>\n      <td>3</td>\n      <td>2</td>\n      <td>10</td>\n    </tr>\n    <tr>\n      <th>Total</th>\n      <td>32</td>\n      <td>32</td>\n      <td>32</td>\n      <td>32</td>\n      <td>128</td>\n    </tr>\n  </tbody>\n</table>\n</div>"
     },
     "metadata": {},
     "execution_count": 5
    }
   ],
   "source": [
    "#Crpsstab of Categorical Variable Counts\n",
    "catsummstats = pd.crosstab(data['Exchange'],[data['Sharing Firm Introduced'],data['Relatedness with Sharing Firm']],margins=True, margins_name= \"Total\")\n",
    "catsummstats"
   ]
  },
  {
   "cell_type": "code",
   "execution_count": 6,
   "metadata": {},
   "outputs": [
    {
     "output_type": "execute_result",
     "data": {
      "text/plain": [
       "                         count        mean          std        min        25%  \\\n",
       "one_m_diff_shareprice    128.0    0.221725     9.346026 -24.570728  -5.273614   \n",
       "three_m_diff_shareprice  128.0    2.768676    19.415373 -45.226774  -8.293984   \n",
       "six_m_diff_shareprice    128.0    6.718731    28.315888 -56.081946  -8.565248   \n",
       "one_y_diff_shareprice    128.0   18.985659    48.901747 -77.362205 -11.885776   \n",
       "two_y_diff_shareprice    128.0   41.808234   169.229427 -71.560611  -9.822332   \n",
       "three_y_diff_shareprice  128.0   45.811341   117.177361 -83.734440 -20.925556   \n",
       "one_m_diff_volume        128.0  105.029528   386.830189 -94.400000 -40.204664   \n",
       "three_m_diff_volume      128.0   61.356665   278.591030 -95.289471 -46.212218   \n",
       "six_m_diff_volume        128.0   96.425443   334.153877 -93.034199 -42.362757   \n",
       "one_y_diff_volume        128.0   86.815980   474.867760 -95.133100 -38.260425   \n",
       "two_y_diff_volume        128.0  260.198618  1764.945281 -99.324690 -40.994278   \n",
       "three_y_diff_volume      128.0  106.604569   269.281188 -95.543045 -40.452664   \n",
       "one_m_diff_sp500         128.0    0.397625     3.182852  -9.079145  -1.623822   \n",
       "three_m_diff_sp500       128.0    1.334789     8.067127 -30.135716  -2.235455   \n",
       "six_m_diff_sp500         128.0    3.319687    11.036355 -42.697785  -1.731966   \n",
       "one_y_diff_sp500         128.0    9.839294    15.142085 -38.485794   3.143930   \n",
       "two_y_diff_sp500         128.0   17.955621    22.729056 -36.314602   8.645576   \n",
       "three_y_diff_sp500       128.0   23.401787    27.163545 -38.380328   4.634924   \n",
       "\n",
       "                               50%         75%           max  \n",
       "one_m_diff_shareprice     0.656898    5.966184     27.441580  \n",
       "three_m_diff_shareprice   2.575356   12.531634     53.285290  \n",
       "six_m_diff_shareprice     2.842428   16.459546    161.231884  \n",
       "one_y_diff_shareprice    13.628225   37.527171    213.499513  \n",
       "two_y_diff_shareprice    20.875239   49.511847   1814.107725  \n",
       "three_y_diff_shareprice  17.926998   79.690660    915.035714  \n",
       "one_m_diff_volume         0.539849  114.439265   3894.000000  \n",
       "three_m_diff_volume       1.390051   64.152579   2698.589801  \n",
       "six_m_diff_volume         5.783472   91.222924   2580.000000  \n",
       "one_y_diff_volume        10.220187   61.490653   4827.692308  \n",
       "two_y_diff_volume         7.731096   73.256647  18849.404762  \n",
       "three_y_diff_volume      26.799746  149.322707   1877.227723  \n",
       "one_m_diff_sp500          0.881599    2.454487      6.877783  \n",
       "three_m_diff_sp500        3.466201    6.134965     14.984989  \n",
       "six_m_diff_sp500          4.802131    8.453216     34.227268  \n",
       "one_y_diff_sp500         12.917179   18.188467     36.116032  \n",
       "two_y_diff_sp500         19.907877   33.386726     62.091682  \n",
       "three_y_diff_sp500       28.705233   42.995094     74.023374  "
      ],
      "text/html": "<div>\n<style scoped>\n    .dataframe tbody tr th:only-of-type {\n        vertical-align: middle;\n    }\n\n    .dataframe tbody tr th {\n        vertical-align: top;\n    }\n\n    .dataframe thead th {\n        text-align: right;\n    }\n</style>\n<table border=\"1\" class=\"dataframe\">\n  <thead>\n    <tr style=\"text-align: right;\">\n      <th></th>\n      <th>count</th>\n      <th>mean</th>\n      <th>std</th>\n      <th>min</th>\n      <th>25%</th>\n      <th>50%</th>\n      <th>75%</th>\n      <th>max</th>\n    </tr>\n  </thead>\n  <tbody>\n    <tr>\n      <th>one_m_diff_shareprice</th>\n      <td>128.0</td>\n      <td>0.221725</td>\n      <td>9.346026</td>\n      <td>-24.570728</td>\n      <td>-5.273614</td>\n      <td>0.656898</td>\n      <td>5.966184</td>\n      <td>27.441580</td>\n    </tr>\n    <tr>\n      <th>three_m_diff_shareprice</th>\n      <td>128.0</td>\n      <td>2.768676</td>\n      <td>19.415373</td>\n      <td>-45.226774</td>\n      <td>-8.293984</td>\n      <td>2.575356</td>\n      <td>12.531634</td>\n      <td>53.285290</td>\n    </tr>\n    <tr>\n      <th>six_m_diff_shareprice</th>\n      <td>128.0</td>\n      <td>6.718731</td>\n      <td>28.315888</td>\n      <td>-56.081946</td>\n      <td>-8.565248</td>\n      <td>2.842428</td>\n      <td>16.459546</td>\n      <td>161.231884</td>\n    </tr>\n    <tr>\n      <th>one_y_diff_shareprice</th>\n      <td>128.0</td>\n      <td>18.985659</td>\n      <td>48.901747</td>\n      <td>-77.362205</td>\n      <td>-11.885776</td>\n      <td>13.628225</td>\n      <td>37.527171</td>\n      <td>213.499513</td>\n    </tr>\n    <tr>\n      <th>two_y_diff_shareprice</th>\n      <td>128.0</td>\n      <td>41.808234</td>\n      <td>169.229427</td>\n      <td>-71.560611</td>\n      <td>-9.822332</td>\n      <td>20.875239</td>\n      <td>49.511847</td>\n      <td>1814.107725</td>\n    </tr>\n    <tr>\n      <th>three_y_diff_shareprice</th>\n      <td>128.0</td>\n      <td>45.811341</td>\n      <td>117.177361</td>\n      <td>-83.734440</td>\n      <td>-20.925556</td>\n      <td>17.926998</td>\n      <td>79.690660</td>\n      <td>915.035714</td>\n    </tr>\n    <tr>\n      <th>one_m_diff_volume</th>\n      <td>128.0</td>\n      <td>105.029528</td>\n      <td>386.830189</td>\n      <td>-94.400000</td>\n      <td>-40.204664</td>\n      <td>0.539849</td>\n      <td>114.439265</td>\n      <td>3894.000000</td>\n    </tr>\n    <tr>\n      <th>three_m_diff_volume</th>\n      <td>128.0</td>\n      <td>61.356665</td>\n      <td>278.591030</td>\n      <td>-95.289471</td>\n      <td>-46.212218</td>\n      <td>1.390051</td>\n      <td>64.152579</td>\n      <td>2698.589801</td>\n    </tr>\n    <tr>\n      <th>six_m_diff_volume</th>\n      <td>128.0</td>\n      <td>96.425443</td>\n      <td>334.153877</td>\n      <td>-93.034199</td>\n      <td>-42.362757</td>\n      <td>5.783472</td>\n      <td>91.222924</td>\n      <td>2580.000000</td>\n    </tr>\n    <tr>\n      <th>one_y_diff_volume</th>\n      <td>128.0</td>\n      <td>86.815980</td>\n      <td>474.867760</td>\n      <td>-95.133100</td>\n      <td>-38.260425</td>\n      <td>10.220187</td>\n      <td>61.490653</td>\n      <td>4827.692308</td>\n    </tr>\n    <tr>\n      <th>two_y_diff_volume</th>\n      <td>128.0</td>\n      <td>260.198618</td>\n      <td>1764.945281</td>\n      <td>-99.324690</td>\n      <td>-40.994278</td>\n      <td>7.731096</td>\n      <td>73.256647</td>\n      <td>18849.404762</td>\n    </tr>\n    <tr>\n      <th>three_y_diff_volume</th>\n      <td>128.0</td>\n      <td>106.604569</td>\n      <td>269.281188</td>\n      <td>-95.543045</td>\n      <td>-40.452664</td>\n      <td>26.799746</td>\n      <td>149.322707</td>\n      <td>1877.227723</td>\n    </tr>\n    <tr>\n      <th>one_m_diff_sp500</th>\n      <td>128.0</td>\n      <td>0.397625</td>\n      <td>3.182852</td>\n      <td>-9.079145</td>\n      <td>-1.623822</td>\n      <td>0.881599</td>\n      <td>2.454487</td>\n      <td>6.877783</td>\n    </tr>\n    <tr>\n      <th>three_m_diff_sp500</th>\n      <td>128.0</td>\n      <td>1.334789</td>\n      <td>8.067127</td>\n      <td>-30.135716</td>\n      <td>-2.235455</td>\n      <td>3.466201</td>\n      <td>6.134965</td>\n      <td>14.984989</td>\n    </tr>\n    <tr>\n      <th>six_m_diff_sp500</th>\n      <td>128.0</td>\n      <td>3.319687</td>\n      <td>11.036355</td>\n      <td>-42.697785</td>\n      <td>-1.731966</td>\n      <td>4.802131</td>\n      <td>8.453216</td>\n      <td>34.227268</td>\n    </tr>\n    <tr>\n      <th>one_y_diff_sp500</th>\n      <td>128.0</td>\n      <td>9.839294</td>\n      <td>15.142085</td>\n      <td>-38.485794</td>\n      <td>3.143930</td>\n      <td>12.917179</td>\n      <td>18.188467</td>\n      <td>36.116032</td>\n    </tr>\n    <tr>\n      <th>two_y_diff_sp500</th>\n      <td>128.0</td>\n      <td>17.955621</td>\n      <td>22.729056</td>\n      <td>-36.314602</td>\n      <td>8.645576</td>\n      <td>19.907877</td>\n      <td>33.386726</td>\n      <td>62.091682</td>\n    </tr>\n    <tr>\n      <th>three_y_diff_sp500</th>\n      <td>128.0</td>\n      <td>23.401787</td>\n      <td>27.163545</td>\n      <td>-38.380328</td>\n      <td>4.634924</td>\n      <td>28.705233</td>\n      <td>42.995094</td>\n      <td>74.023374</td>\n    </tr>\n  </tbody>\n</table>\n</div>"
     },
     "metadata": {},
     "execution_count": 6
    }
   ],
   "source": [
    "#Descriptive Statistics for % Change in Share Price and Volume at t = (1,3,6,12)\n",
    "summstats = data[['one_m_diff_shareprice','three_m_diff_shareprice','six_m_diff_shareprice','one_y_diff_shareprice','two_y_diff_shareprice','three_y_diff_shareprice','one_m_diff_volume','three_m_diff_volume','six_m_diff_volume','one_y_diff_volume','two_y_diff_volume','three_y_diff_volume','one_m_diff_sp500','three_m_diff_sp500','six_m_diff_sp500','one_y_diff_sp500','two_y_diff_sp500','three_y_diff_sp500']].describe().transpose()\n",
    "summstats"
   ]
  },
  {
   "source": [
    "## EDA Plots"
   ],
   "cell_type": "markdown",
   "metadata": {}
  },
  {
   "cell_type": "code",
   "execution_count": null,
   "metadata": {},
   "outputs": [],
   "source": [
    "sns.set(context='paper', style='ticks',palette='tab10',\n",
    "rc={'font.family': 'sans-serif',\n",
    " 'font.sans-serif':\n",
    "  'Tahoma',\n",
    "  #'font.weight':'heavy',\n",
    "  #'axes.labelweight':'normal',\n",
    "  #'axes.labelsize':'medium',\n",
    "  #'axes.titlesize':'medium',\n",
    "  #'axes.titleweight':'normal',\n",
    "  #'font.size':16,\n",
    " 'axes.spines.right': False,\n",
    " 'axes.spines.top': False,\n",
    " #'xtick.labelsize':'small',\n",
    " #'ytick.labelsize':'small',\n",
    " 'axes.labelpad':12,\n",
    " #'legend.fontsize':10,\n",
    " 'scatter.edgecolors': None})"
   ]
  },
  {
   "cell_type": "code",
   "execution_count": null,
   "metadata": {},
   "outputs": [],
   "source": [
    "#Boxplots of the Categorical Data for Each Time Period\n",
    "CATsvsOneM = sns.catplot(x=\"Sharing Firm Introduced\", y=\"one_m_diff_shareprice\",hue='Relatedness with Sharing Firm',col='Exchange', kind='box',data=onemonthdata)\n",
    "CATsvsOneM.set_ylabels('% Change in Share Price (t=1)')\n",
    "# CATsvsOneM.fig.suptitle('Figure 3. one_m_diff_shareprice vs. Categorical Variables', weight='bold',y=1.05,x=.15)\n",
    "CATsvsOneM.savefig(\"Regression Output:Visualizations/EDA Plots/BoxplotsofSharePricevsCats/onemonthcats.png\", bbox_inches='tight')\n",
    "\n",
    "CATsvsThreeM = sns.catplot(x=\"Sharing Firm Introduced\", y=\"three_m_diff_shareprice\",hue='Relatedness with Sharing Firm',col='Exchange',kind='box',data=threemonthdata)\n",
    "CATsvsThreeM.set_ylabels('% Change in Share Price (t=3)')\n",
    "#CATsvsThreeM.fig.suptitle('Figure 4. three_m_diff_shareprice vs. Categorical Variables', weight='bold',y=1.05,x=.15)\n",
    "CATsvsThreeM.savefig(\"Regression Output:Visualizations/EDA Plots/BoxplotsofSharePricevsCats/threemonthcats.png\", bbox_inches='tight')\n",
    "\n",
    "CATsvsSixM = sns.catplot(x=\"Sharing Firm Introduced\", y=\"six_m_diff_shareprice\",hue='Relatedness with Sharing Firm',col='Exchange', kind='box',data=sixmonthdata)\n",
    "CATsvsSixM.set_ylabels('% Change in Share Price (t=6)')\n",
    "#CATsvsSixM.fig.suptitle('Figure 5. six_m_diff_shareprice vs. Categorical Variables', weight='bold',y=1.05,x=.15)\n",
    "CATsvsSixM.savefig(\"Regression Output:Visualizations/EDA Plots/BoxplotsofSharePricevsCats/sixmonthcats.png\", bbox_inches='tight')\n",
    "\n",
    "CATsvsOneY = sns.catplot(x=\"Sharing Firm Introduced\", y=\"one_y_diff_shareprice\",hue='Relatedness with Sharing Firm',col='Exchange', kind='box',data=oneyeardata)\n",
    "CATsvsOneY.set_ylabels('% Change in Share Price (t=12)')\n",
    "#CATsvsOneY.fig.suptitle('Figure 6. one_y_diff_shareprice vs. Categorical Variables', weight='bold',y=1.05,x=.15)\n",
    "CATsvsOneY.savefig(\"Regression Output:Visualizations/EDA Plots/BoxplotsofSharePricevsCats/oneyearcats.png\", bbox_inches='tight')\n",
    "\n",
    "CATsvsTwoY = sns.catplot(x=\"Sharing Firm Introduced\", y=\"two_y_diff_shareprice\",hue='Relatedness with Sharing Firm',col='Exchange', kind='box',data=twoyeardata)\n",
    "CATsvsTwoY.set_ylabels('% Change in Share Price (t=24)')\n",
    "#CATsvsOneY.fig.suptitle('Figure 6. one_y_diff_shareprice vs. Categorical Variables', weight='bold',y=1.05,x=.15)\n",
    "CATsvsTwoY.savefig(\"Regression Output:Visualizations/EDA Plots/BoxplotsofSharePricevsCats/twoyearcats.png\", bbox_inches='tight')\n",
    "\n",
    "CATsvsThreeY = sns.catplot(x=\"Sharing Firm Introduced\", y=\"three_y_diff_shareprice\",hue='Relatedness with Sharing Firm',col='Exchange', kind='box',data=threeyeardata)\n",
    "CATsvsThreeY.set_ylabels('% Change in Share Price (t=36)')\n",
    "#CATsvsOneY.fig.suptitle('Figure 6. one_y_diff_shareprice vs. Categorical Variables', weight='bold',y=1.05,x=.15)\n",
    "CATsvsThreeY.savefig(\"Regression Output:Visualizations/EDA Plots/BoxplotsofSharePricevsCats/threeyearcats.png\", bbox_inches='tight')"
   ]
  },
  {
   "cell_type": "code",
   "execution_count": null,
   "metadata": {},
   "outputs": [],
   "source": [
    "#Scatterplots of Share Price vs Volume\n",
    "#Potentially plot change in share price overtime. Will need to extract dates of observation during data cleanup\n",
    "VolumevsOneM = sns.scatterplot(x=\"one_m_diff_volume\", y=\"one_m_diff_shareprice\",data=onemonthdata, linewidth=0)#.set_title('Figure 7. one_m_diff_shareprice vs. one_m_diff_volume',loc='left',fontdict={'fontweight':'bold'})\n",
    "VolumevsOneM.set_ylabel('% Change in Share Price (t=1)')\n",
    "VolumevsOneM.set_xlabel('% Change in Volume (t=1)')\n",
    "VolumevsOneM.figure.set_size_inches(5.5, 4)\n",
    "plt.tight_layout()\n",
    "plt.show()\n",
    "VolumevsOneM.figure.savefig(\"Regression Output:Visualizations/EDA Plots/ScatterplotsofSharePricevsVolume/onemonthvolume.png\", bbox_inches='tight')\n",
    "\n",
    "\n",
    "VolumevsThreeM = sns.scatterplot(x=\"three_m_diff_volume\", y=\"three_m_diff_shareprice\",data=threemonthdata, linewidth=0)#.set_title('Figure 8. three_m_diff_shareprice vs. three_m_diff_volume',loc='left',fontdict={'fontweight':'bold'})\n",
    "VolumevsThreeM.set_ylabel('% Change in Share Price (t=3)')\n",
    "VolumevsThreeM.set_xlabel('% Change in Volume (t=3)')\n",
    "VolumevsThreeM.figure.set_size_inches(5.5, 4)\n",
    "plt.tight_layout()\n",
    "plt.show()\n",
    "VolumevsThreeM.figure.savefig(\"Regression Output:Visualizations/EDA Plots/ScatterplotsofSharePricevsVolume/threemonthvolume.png\", bbox_inches='tight')\n",
    "\n",
    "\n",
    "VolumevsSixM = sns.scatterplot(x=\"six_m_diff_volume\", y=\"six_m_diff_shareprice\",data=sixmonthdata, linewidth=0)#.set_title('Figure 9. six_m_diff_shareprice vs. six_m_diff_volume',loc='left',fontdict={'fontweight':'bold'})\n",
    "VolumevsSixM.set_ylabel('% Change in Share Price (t=6)')\n",
    "VolumevsSixM.set_xlabel('% Change in Volume (t=6)')\n",
    "VolumevsSixM.figure.set_size_inches(5.5, 4)\n",
    "plt.tight_layout()\n",
    "plt.show()\n",
    "VolumevsSixM.figure.savefig(\"Regression Output:Visualizations/EDA Plots/ScatterplotsofSharePricevsVolume/sixmonthvolume.png\", bbox_inches='tight')\n",
    "# plt.show()\n",
    "\n",
    "VolumevsOneY = sns.scatterplot(x=\"one_y_diff_volume\", y=\"one_y_diff_shareprice\",data=oneyeardata, linewidth=0)#.set_title('Figure 10. one_y_diff_shareprice vs. one_y_diff_volume',loc='left',fontdict={'fontweight':'bold'})\n",
    "VolumevsOneY.set_ylabel('% Change in Share Price (t=12)')\n",
    "VolumevsOneY.set_xlabel('% Change in Volume (t=12)')\n",
    "VolumevsOneY.figure.set_size_inches(5.5, 4)\n",
    "plt.tight_layout()\n",
    "plt.show()\n",
    "VolumevsOneY.figure.savefig(\"Regression Output:Visualizations/EDA Plots/ScatterplotsofSharePricevsVolume/oneyearvolume.png\", bbox_inches='tight')\n",
    "\n",
    "VolumevsTwoY = sns.scatterplot(x=\"two_y_diff_volume\", y=\"two_y_diff_shareprice\",data=twoyeardata, linewidth=0)#.set_title('Figure 10. two_y_diff_shareprice vs. two_y_diff_volume',loc='left',fontdict={'fontweight':'bold'})\n",
    "VolumevsTwoY.set_ylabel('% Change in Share Price (t=24)')\n",
    "VolumevsTwoY.set_xlabel('% Change in Volume (t=24)')\n",
    "VolumevsTwoY.figure.set_size_inches(5.5, 4)\n",
    "plt.tight_layout()\n",
    "plt.show()\n",
    "VolumevsTwoY.figure.savefig(\"Regression Output:Visualizations/EDA Plots/ScatterplotsofSharePricevsVolume/twoyearvolume.png\", bbox_inches='tight')\n",
    "\n",
    "VolumevsThreeY = sns.scatterplot(x=\"three_y_diff_volume\", y=\"three_y_diff_shareprice\",data=threeyeardata,linewidth=0)#.set_title('Figure 10. three_y_diff_shareprice vs. three_y_diff_volume',loc='left',fontdict={'fontweight':'bold'})\n",
    "VolumevsThreeY.set_ylabel('% Change in Share Price (t=36)')\n",
    "VolumevsThreeY.set_xlabel('% Change in Volume (t=36)')\n",
    "VolumevsThreeY.figure.set_size_inches(5.5, 4)\n",
    "plt.tight_layout()\n",
    "plt.show()\n",
    "VolumevsThreeY.figure.savefig(\"Regression Output:Visualizations/EDA Plots/ScatterplotsofSharePricevsVolume/threeyearvolume.png\", bbox_inches='tight')"
   ]
  },
  {
   "cell_type": "code",
   "execution_count": null,
   "metadata": {},
   "outputs": [],
   "source": [
    "#Scatterplots of Share Price vs S&P500\n",
    "SP500vsOneM = sns.scatterplot(x=\"one_m_diff_sp500\", y=\"one_m_diff_shareprice\", data=onemonthdata, linewidth=0)#.set_title('Figure 7. one_m_diff_shareprice vs. one_m_diff_sp500',loc='left',fontdict={'fontweight':'bold'})\n",
    "SP500vsOneM.set_ylabel('% Change in Share Price (t=1)')\n",
    "SP500vsOneM.set_xlabel('% Change in S&P500 (t=1)')\n",
    "SP500vsOneM.figure.set_size_inches(5.5, 4)\n",
    "plt.tight_layout()\n",
    "plt.show()\n",
    "SP500vsOneM.figure.savefig(\"Regression Output:Visualizations/EDA Plots/ScatterplotsofSharePricevsS&P500/onemonthsp500.png\")\n",
    "\n",
    "SP500vsThreeM = sns.scatterplot(x=\"three_m_diff_sp500\", y=\"three_m_diff_shareprice\",data=threemonthdata, linewidth=0)#.set_title('Figure 8. three_m_diff_shareprice vs. three_m_diff_sp500',loc='left',fontdict={'fontweight':'bold'})\n",
    "SP500vsThreeM.set_ylabel('% Change in Share Price (t=3)')\n",
    "SP500vsThreeM.set_xlabel('% Change in S&P500 (t=3)')\n",
    "SP500vsThreeM.figure.set_size_inches(5.5, 4)\n",
    "plt.tight_layout()\n",
    "plt.show()\n",
    "SP500vsThreeM.figure.savefig(\"Regression Output:Visualizations/EDA Plots/ScatterplotsofSharePricevsS&P500/threemonthsp500.png\")\n",
    "\n",
    "SP500vsSixM = sns.scatterplot(x=\"six_m_diff_sp500\", y=\"six_m_diff_shareprice\",data=sixmonthdata, linewidth=0)#.set_title('Figure 9. six_m_diff_shareprice vs. six_m_diff_sp500',loc='left',fontdict={'fontweight':'bold'})\n",
    "SP500vsSixM.set_ylabel('% Change in Share Price (t=6)')\n",
    "SP500vsSixM.set_xlabel('% Change in S&P500 (t=6)')\n",
    "SP500vsSixM.figure.set_size_inches(5.5, 4)\n",
    "plt.tight_layout()\n",
    "plt.show()\n",
    "SP500vsSixM.figure.savefig(\"Regression Output:Visualizations/EDA Plots/ScatterplotsofSharePricevsS&P500/sixmonthsp500.png\")\n",
    "\n",
    "SP500vsOneY = sns.scatterplot(x=\"one_y_diff_sp500\", y=\"one_y_diff_shareprice\",data=oneyeardata, linewidth=0)#.set_title('Figure 10. one_y_diff_shareprice vs. one_y_diff_sp500',loc='left',fontdict={'fontweight':'bold'})\n",
    "SP500vsOneY.set_ylabel('% Change in Share Price (t=12)')\n",
    "SP500vsOneY.set_xlabel('% Change in S&P500 (t=12)')\n",
    "SP500vsOneY.figure.set_size_inches(5.5, 4)\n",
    "plt.tight_layout()\n",
    "plt.show()\n",
    "SP500vsOneY.figure.savefig(\"Regression Output:Visualizations/EDA Plots/ScatterplotsofSharePricevsS&P500/oneyearsp500.png\")\n",
    "\n",
    "SP500vsTwoY = sns.scatterplot(x=\"two_y_diff_sp500\", y=\"two_y_diff_shareprice\",data=twoyeardata, linewidth=0)#.set_title('Figure 10. two_y_diff_shareprice vs. two_y_diff_sp500',loc='left',fontdict={'fontweight':'bold'})\n",
    "SP500vsTwoY.set_ylabel('% Change in Share Price (t=24)')\n",
    "SP500vsTwoY.set_xlabel('% Change in S&P500 (t=24)')\n",
    "SP500vsTwoY.figure.set_size_inches(5.5, 4)\n",
    "plt.tight_layout()\n",
    "plt.show()\n",
    "SP500vsTwoY.figure.savefig(\"Regression Output:Visualizations/EDA Plots/ScatterplotsofSharePricevsS&P500/twoyearsp500.png\")\n",
    "\n",
    "SP500vsThreeY = sns.scatterplot(x=\"three_y_diff_sp500\", y=\"three_y_diff_shareprice\",data=threeyeardata, linewidth=0)#.set_title('Figure 10. three_y_diff_shareprice vs. three_y_diff_sp500',loc='left',fontdict={'fontweight':'bold'})\n",
    "SP500vsThreeY.set_ylabel('% Change in Share Price (t=36)')\n",
    "SP500vsThreeY.set_xlabel('% Change in S&P500 (t=36)')\n",
    "SP500vsThreeY.figure.set_size_inches(5.5, 4)\n",
    "plt.tight_layout()\n",
    "plt.show()\n",
    "SP500vsThreeY.figure.savefig(\"Regression Output:Visualizations/EDA Plots/ScatterplotsofSharePricevsS&P500/threeyearsp500.png\")"
   ]
  },
  {
   "cell_type": "code",
   "execution_count": null,
   "metadata": {},
   "outputs": [],
   "source": [
    "#Heatmap of Data for t=(6,12,24,36)\n",
    "long_term_data = data[['CI', 'ISF', 'NASDAQ', 'NYSE', 'Other' ,'six_m_diff_volume', 'one_y_diff_volume',\n",
    "       'two_y_diff_volume', 'three_y_diff_volume', 'six_m_diff_shareprice',\n",
    "       'one_y_diff_shareprice', 'two_y_diff_shareprice',\n",
    "       'three_y_diff_shareprice', 'six_m_diff_sp500', 'one_y_diff_sp500', 'two_y_diff_sp500',\n",
    "       'three_y_diff_sp500']]\n",
    "HeatMap = sns.heatmap(long_term_data.corr(),annot=False,cmap='coolwarm')#.set_title(\"Figure 11. Correlation Matrix/Heat Map\",loc='left',fontdict={'fontweight':'bold'})\n",
    "HeatMap.set_xticks(range(0,17))\n",
    "HeatMap.set_xticklabels(['CI', 'ISF', 'NASDAQ', 'NYSE', 'Other', '% Change in Volume (t=6)',\n",
    "       '% Change in Volume (t=12)', '% Change in Volume (t=24)','% Change in Volume (t=36)', '% Change in Share Price (t=6)', '% Change in Share Price (t=12)', '% Change in Share Price (t=24)', '% Change in Share Price (t=36)', '% Change in S&P500 (t=6)', '% Change in S&P500 (t=12)', '% Change in S&P500 (t=24)', '% Change in S&P500 (t=36)'])\n",
    "HeatMap.set_yticks(range(0,17))\n",
    "HeatMap.set_yticklabels(['CI', 'ISF', 'NASDAQ', 'NYSE', 'Other', '% Change in Volume (t=6)',\n",
    "       '% Change in Volume (t=12)', '% Change in Volume (t=24)','% Change in Volume (t=36)', '% Change in Share Price (t=6)', '% Change in Share Price (t=12)', '% Change in Share Price (t=24)', '% Change in Share Price (t=36)', '% Change in S&P500 (t=6)', '% Change in S&P500 (t=12)', '% Change in S&P500 (t=24)', '% Change in S&P500 (t=36)'])\n",
    "HeatMap.figure.savefig(\"Regression Output:Visualizations/EDA Plots/Heatmap/heatmap.png\",bbox_inches='tight')\n",
    "plt.show()"
   ]
  },
  {
   "cell_type": "code",
   "execution_count": null,
   "metadata": {},
   "outputs": [],
   "source": [
    "#Heatmap of All the Data\n",
    "HeatMap = sns.heatmap(data.loc[:,'CI':'three_y_diff_sp500'].corr(),annot=False,cmap='coolwarm')#.set_title(\"Figure 11. Correlation Matrix/Heat Map\",loc='left',fontdict={'fontweight':'bold'})\n",
    "HeatMap.set_xticks(range(0,23))\n",
    "HeatMap.set_xticklabels(['CI', 'ISF', 'NASDAQ', 'NYSE', 'Other',\n",
    "       '% Change in Volume (t=1)', '% Change in Volume (t=3)', '% Change in Volume (t=6)',\n",
    "       '% Change in Volume (t=12)', '% Change in Volume (t=24)','% Change in Volume (t=36)', '% Change in Share Price (t=1)',\n",
    "       '% Change in Share Price (t=3)', '% Change in Share Price (t=6)', '% Change in Share Price (t=12)', '% Change in Share Price (t=24)',         '% Change in Share Price (t=36)', '% Change in S&P500 (t=1)', '% Change in S&P500 (t=3)', '% Change in S&P500 (t=6)', '% Change in S&P500 (t=12)', '% Change in S&P500 (t=24)', '% Change in S&P500 (t=36)'])\n",
    "HeatMap.set_yticks(range(0,23))\n",
    "HeatMap.set_yticklabels(['CI', 'ISF', 'NASDAQ', 'NYSE', 'Other',\n",
    "       '% Change in Volume (t=1)', '% Change in Volume (t=3)', '% Change in Volume (t=6)',\n",
    "       '% Change in Volume (t=12)', '% Change in Volume (t=24)','% Change in Volume (t=36)', '% Change in Share Price (t=1)',\n",
    "       '% Change in Share Price (t=3)', '% Change in Share Price (t=6)', '% Change in Share Price (t=12)', '% Change in Share Price (t=24)', '% Change in Share Price (t=36)', '% Change in S&P500 (t=1)', '% Change in S&P500 (t=3)', '% Change in S&P500 (t=6)', '% Change in S&P500 (t=12)', '% Change in S&P500 (t=24)', '% Change in S&P500 (t=36)'])\n",
    "HeatMap.figure.savefig(\"Regression Output:Visualizations/EDA Plots/Heatmap/fullheatmap.png\",bbox_inches='tight')\n",
    "plt.show()"
   ]
  },
  {
   "cell_type": "code",
   "execution_count": null,
   "metadata": {},
   "outputs": [],
   "source": [
    "#Distributions of % Change in Share Price\n",
    "OneMDistofSharePriceDiff = sns.distplot(onemonthdata['one_m_diff_shareprice'])#.set_title(\"Figure 12. KDE of one_m_diff_shareprice\",loc='left',fontdict={'fontweight':'bold'})\n",
    "OneMDistofSharePriceDiff.set_xlabel('% Change in Share Price (t=1)')\n",
    "OneMDistofSharePriceDiff.figure.set_size_inches(5.5, 4)\n",
    "plt.tight_layout()\n",
    "plt.show()\n",
    "OneMDistofSharePriceDiff.figure.savefig(\"Regression Output:Visualizations/EDA Plots/SharePriceKDEs/onemonthkde.png\")\n",
    "\n",
    "ThreeMDistofSharePriceDiff = sns.distplot(threemonthdata['three_m_diff_shareprice'])#.set_title(\"Figure 13. KDE of three_m_diff_shareprice\",loc='left',fontdict={'fontweight':'bold'})\n",
    "ThreeMDistofSharePriceDiff.set_xlabel('% Change in Share Price (t=3)')\n",
    "ThreeMDistofSharePriceDiff.figure.set_size_inches(5.5, 4)\n",
    "plt.tight_layout()\n",
    "plt.show()\n",
    "ThreeMDistofSharePriceDiff.figure.savefig(\"Regression Output:Visualizations/EDA Plots/SharePriceKDEs/threemonthkde.png\")\n",
    "\n",
    "SixMDistofSharePriceDiff = sns.distplot(sixmonthdata['six_m_diff_shareprice'])#.set_title(\"Figure 14. KDE of six_m_diff_shareprice\",loc='left',fontdict={'fontweight':'bold'})\n",
    "SixMDistofSharePriceDiff.set_xlabel('% Change in Share Price (t=6)')\n",
    "SixMDistofSharePriceDiff.figure.set_size_inches(5.5, 4)\n",
    "plt.tight_layout()\n",
    "plt.show()\n",
    "SixMDistofSharePriceDiff.figure.savefig(\"Regression Output:Visualizations/EDA Plots/SharePriceKDEs/sixmonthkde.png\")\n",
    "\n",
    "OneYDistofSharePriceDiff = sns.distplot(oneyeardata['one_y_diff_shareprice'])#.set_title(\"Figure 15. KDE of one_y_diff_shareprice\",loc='left',fontdict={'fontweight':'bold'})\n",
    "OneYDistofSharePriceDiff.set_xlabel('% Change in Share Price (t=12)')\n",
    "OneYDistofSharePriceDiff.figure.set_size_inches(5.5, 4)\n",
    "plt.tight_layout()\n",
    "plt.show()\n",
    "OneYDistofSharePriceDiff.figure.savefig(\"Regression Output:Visualizations/EDA Plots/SharePriceKDEs/oneyearkde.png\")\n",
    "\n",
    "TwoYDistofSharePriceDiff = sns.distplot(twoyeardata['two_y_diff_shareprice'])#.set_title(\"Figure 15. KDE of two_y_diff_shareprice\",loc='left',fontdict={'fontweight':'bold'})\n",
    "TwoYDistofSharePriceDiff.set_xlabel('% Change in Share Price (t=24)')\n",
    "TwoYDistofSharePriceDiff.figure.set_size_inches(5.5, 4)\n",
    "plt.tight_layout()\n",
    "plt.show()\n",
    "TwoYDistofSharePriceDiff.figure.savefig(\"Regression Output:Visualizations/EDA Plots/SharePriceKDEs/twoyearkde.png\")\n",
    "\n",
    "ThreeYDistofSharePriceDiff = sns.distplot(threeyeardata['three_y_diff_shareprice'])#.set_title(\"Figure 15. KDE of three_y_diff_shareprice\",loc='left',fontdict={'fontweight':'bold'})\n",
    "ThreeYDistofSharePriceDiff.set_xlabel('% Change in Share Price (t=36)')\n",
    "ThreeYDistofSharePriceDiff.figure.set_size_inches(5.5, 4)\n",
    "plt.tight_layout()\n",
    "plt.show()\n",
    "ThreeYDistofSharePriceDiff.figure.savefig(\"Regression Output:Visualizations/EDA Plots/SharePriceKDEs/threeyearkde.png\")"
   ]
  },
  {
   "source": [
    "## Regression Analysis for t = One Month\n",
    "Note: The Residual and Q-Q Plots for all the regressions were done in STATA"
   ],
   "cell_type": "markdown",
   "metadata": {}
  },
  {
   "cell_type": "code",
   "execution_count": null,
   "metadata": {},
   "outputs": [],
   "source": [
    "onemresult1 = sm.ols(formula=\"one_m_diff_shareprice ~ ISF + CI\", data=onemonthdata).fit(cov_type='HC1')\n",
    "onemresult2 = sm.ols(formula=\"one_m_diff_shareprice ~ ISF + CI + NASDAQ + NYSE\", data=onemonthdata).fit(cov_type='HC1')\n",
    "onemresult3 = sm.ols(formula=\"one_m_diff_shareprice ~ ISF + CI + NASDAQ + NYSE + one_m_diff_volume \", data=onemonthdata).fit(cov_type='HC1')\n",
    "onemresult4 = sm.ols(formula=\"one_m_diff_shareprice ~ ISF + CI + NASDAQ + NYSE + one_m_diff_volume + one_m_diff_sp500 \", data=onemonthdata).fit(cov_type='HC1')\n",
    "onemresult5 = sm.ols(formula=\"one_m_diff_shareprice ~ ISF + CI + NASDAQ + NYSE + one_m_diff_volume + one_m_diff_sp500 + ISF:CI + ISF:NASDAQ + ISF:NYSE + ISF:one_m_diff_volume + ISF:one_m_diff_sp500 \", data=onemonthdata).fit(cov_type='HC1')\n",
    "\n",
    "onemonthsummary = Stargazer([onemresult1, onemresult2, onemresult3, onemresult4, onemresult5])\n",
    "onemonthsummary.covariate_order(['Intercept', 'ISF', 'CI','NASDAQ','NYSE', 'one_m_diff_volume', 'one_m_diff_sp500','ISF:CI','ISF:NASDAQ','ISF:NYSE','ISF:one_m_diff_volume','ISF:one_m_diff_sp500'])\n",
    "onemonthsummary.add_custom_notes(['[1] Standard Errors are heteroscedasticity robust (HC1)'])\n",
    "onemonthsummary.title(\"Table 5. Regression Output for t = One Month\")\n",
    "\n",
    "file = open(\"Regression Output:Visualizations/Regression Output/Python/onemonthoutput.html\",\"w\")\n",
    "file.write(onemonthsummary.render_html())\n",
    "file.close()\n",
    "onemonthsummary"
   ]
  },
  {
   "source": [
    "## Regression Analysis for t = Three Months"
   ],
   "cell_type": "markdown",
   "metadata": {}
  },
  {
   "cell_type": "code",
   "execution_count": null,
   "metadata": {},
   "outputs": [],
   "source": [
    "threemresult1 = sm.ols(formula=\"three_m_diff_shareprice ~ ISF + CI\", data=threemonthdata).fit(cov_type='HC1')\n",
    "threemresult2 = sm.ols(formula=\"three_m_diff_shareprice ~ ISF + CI + NASDAQ + NYSE\", data=threemonthdata).fit(cov_type='HC1')\n",
    "threemresult3 = sm.ols(formula=\"three_m_diff_shareprice ~ ISF + CI + NASDAQ + NYSE + three_m_diff_volume\", data=threemonthdata).fit(cov_type='HC1')\n",
    "threemresult4 = sm.ols(formula=\"three_m_diff_shareprice ~ ISF + CI + NASDAQ + NYSE + three_m_diff_volume + three_m_diff_sp500 \", data=threemonthdata).fit(cov_type='HC1')\n",
    "threemresult5 = sm.ols(formula=\"three_m_diff_shareprice ~ ISF + CI + NASDAQ + NYSE + three_m_diff_volume + three_m_diff_sp500 + ISF:CI + ISF:NASDAQ + ISF:NYSE + ISF:three_m_diff_volume + ISF:three_m_diff_sp500 \", data=threemonthdata).fit(cov_type='HC1')\n",
    "\n",
    "threemonthsummary = Stargazer([threemresult1, threemresult2, threemresult3, threemresult4, threemresult5])\n",
    "threemonthsummary.covariate_order(['Intercept', 'ISF', 'CI','NASDAQ','NYSE', 'three_m_diff_volume', 'three_m_diff_sp500','ISF:CI','ISF:NASDAQ','ISF:NYSE','ISF:three_m_diff_volume','ISF:three_m_diff_sp500'])\n",
    "threemonthsummary.add_custom_notes(['[1] Standard Errors are heteroscedasticity robust (HC1)'])\n",
    "threemonthsummary.title(\"Table 6. Regression Output for t = Three Months\")\n",
    "\n",
    "file = open(\"Regression Output:Visualizations/Regression Output/Python/threemonthoutput.html\",\"w\")\n",
    "file.write(threemonthsummary.render_html())\n",
    "file.close()\n",
    "threemonthsummary"
   ]
  },
  {
   "source": [
    "## Regression Analysis for t = Six Months"
   ],
   "cell_type": "markdown",
   "metadata": {}
  },
  {
   "cell_type": "code",
   "execution_count": null,
   "metadata": {},
   "outputs": [],
   "source": [
    "sixmresult1 = sm.ols(formula=\"six_m_diff_shareprice ~ ISF + CI\", data=sixmonthdata).fit(cov_type='HC1')\n",
    "sixmresult2 = sm.ols(formula=\"six_m_diff_shareprice ~ ISF + CI + NASDAQ + NYSE\", data=sixmonthdata).fit(cov_type='HC1')\n",
    "sixmresult3 = sm.ols(formula=\"six_m_diff_shareprice ~ ISF + CI + NASDAQ + NYSE + six_m_diff_volume\", data=sixmonthdata).fit(cov_type='HC1')\n",
    "sixmresult4 = sm.ols(formula=\"six_m_diff_shareprice ~ ISF + CI + NASDAQ + NYSE + six_m_diff_volume + six_m_diff_sp500 \", data=sixmonthdata).fit(cov_type='HC1')\n",
    "sixmresult5 = sm.ols(formula=\"six_m_diff_shareprice ~ ISF + CI + NASDAQ + NYSE + six_m_diff_volume + six_m_diff_sp500 + ISF:CI + ISF:NASDAQ + ISF:NYSE + ISF:six_m_diff_volume + ISF:six_m_diff_sp500 \", data=sixmonthdata).fit(cov_type='HC1')\n",
    "\n",
    "sixmonthsummary = Stargazer([sixmresult1, sixmresult2, sixmresult3, sixmresult4, sixmresult5])\n",
    "sixmonthsummary.covariate_order(['Intercept', 'ISF', 'CI','NASDAQ','NYSE', 'six_m_diff_volume', 'six_m_diff_sp500','ISF:CI','ISF:NASDAQ','ISF:NYSE','ISF:six_m_diff_volume','ISF:six_m_diff_sp500'])\n",
    "sixmonthsummary.add_custom_notes(['[1] Standard Errors are heteroscedasticity robust (HC1)'])\n",
    "sixmonthsummary.title(\"Table 7. Regression Output for t = Six Months\")\n",
    "\n",
    "file = open(\"Regression Output:Visualizations/Regression Output/Python/sixmonthoutput.html\",\"w\")\n",
    "file.write(sixmonthsummary.render_html())\n",
    "file.close()\n",
    "sixmonthsummary"
   ]
  },
  {
   "source": [
    "## Regression Analysis for t = One Year"
   ],
   "cell_type": "markdown",
   "metadata": {}
  },
  {
   "cell_type": "code",
   "execution_count": null,
   "metadata": {},
   "outputs": [],
   "source": [
    "oneyresult1 = sm.ols(formula=\"one_y_diff_shareprice ~ ISF + CI\", data=oneyeardata).fit(cov_type='HC1')\n",
    "oneyresult2 = sm.ols(formula=\"one_y_diff_shareprice ~ ISF + CI + NASDAQ + NYSE\", data=oneyeardata).fit(cov_type='HC1')\n",
    "oneyresult3 = sm.ols(formula=\"one_y_diff_shareprice ~ ISF + CI + NASDAQ + NYSE + one_y_diff_volume\", data=oneyeardata).fit(cov_type='HC1')\n",
    "oneyresult4 = sm.ols(formula=\"one_y_diff_shareprice ~ ISF + CI + NASDAQ + NYSE + one_y_diff_volume + one_y_diff_sp500 \", data=oneyeardata).fit(cov_type='HC1')\n",
    "oneyresult5 = sm.ols(formula=\"one_y_diff_shareprice ~ ISF + CI + NASDAQ + NYSE + one_y_diff_volume + one_y_diff_sp500 + ISF:CI + ISF:NASDAQ + ISF:NYSE + ISF:one_y_diff_volume + ISF:one_y_diff_sp500 \", data=oneyeardata).fit(cov_type='HC1')\n",
    "\n",
    "oneyearsummary = Stargazer([oneyresult1, oneyresult2, oneyresult3, oneyresult4, oneyresult5])\n",
    "oneyearsummary.covariate_order(['Intercept', 'ISF', 'CI','NASDAQ','NYSE', 'one_y_diff_volume', 'one_y_diff_sp500','ISF:CI','ISF:NASDAQ','ISF:NYSE','ISF:one_y_diff_volume','ISF:one_y_diff_sp500'])\n",
    "oneyearsummary.add_custom_notes(['[1] Standard Errors are heteroscedasticity robust (HC1)'])\n",
    "oneyearsummary.title(\"Table 8. Regression Output for t = One Year\")\n",
    "\n",
    "file = open(\"Regression Output:Visualizations/Regression Output/Python/oneyearoutput.html\",\"w\")\n",
    "file.write(oneyearsummary.render_html())\n",
    "file.close()\n",
    "oneyearsummary"
   ]
  },
  {
   "source": [
    "## Regression Analysis for t = Two Years"
   ],
   "cell_type": "markdown",
   "metadata": {}
  },
  {
   "cell_type": "code",
   "execution_count": null,
   "metadata": {},
   "outputs": [],
   "source": [
    "twoyresult1 = sm.ols(formula=\"two_y_diff_shareprice ~ ISF + CI\", data=twoyeardata).fit(cov_type='HC1')\n",
    "twoyresult2 = sm.ols(formula=\"two_y_diff_shareprice ~ ISF + CI + NASDAQ + NYSE\", data=twoyeardata).fit(cov_type='HC1')\n",
    "twoyresult3 = sm.ols(formula=\"two_y_diff_shareprice ~ ISF + CI + NASDAQ + NYSE + two_y_diff_volume\", data=twoyeardata).fit(cov_type='HC1')\n",
    "twoyresult4 = sm.ols(formula=\"two_y_diff_shareprice ~ ISF + CI + NASDAQ + NYSE + two_y_diff_volume + two_y_diff_sp500 \", data=twoyeardata).fit(cov_type='HC1')\n",
    "twoyresult5 = sm.ols(formula=\"two_y_diff_shareprice ~ ISF + CI + NASDAQ + NYSE + two_y_diff_volume + two_y_diff_sp500 + ISF:CI + ISF:NASDAQ + ISF:NYSE + ISF:two_y_diff_volume + ISF:two_y_diff_sp500 \", data=twoyeardata).fit(cov_type='HC1')\n",
    "\n",
    "twoyearsummary = Stargazer([twoyresult1, twoyresult2, twoyresult3, twoyresult4, twoyresult5])\n",
    "twoyearsummary.covariate_order(['Intercept', 'ISF', 'CI','NASDAQ','NYSE', 'two_y_diff_volume', 'two_y_diff_sp500','ISF:CI','ISF:NASDAQ','ISF:NYSE','ISF:two_y_diff_volume','ISF:two_y_diff_sp500'])\n",
    "twoyearsummary.add_custom_notes(['[1] Standard Errors are heteroscedasticity robust (HC1)'])\n",
    "twoyearsummary.title(\"Table 8. Regression Output for t = Two Years\")\n",
    "\n",
    "file = open(\"Regression Output:Visualizations/Regression Output/Python/twoyearoutput.html\",\"w\")\n",
    "file.write(twoyearsummary.render_html())\n",
    "file.close()\n",
    "twoyearsummary"
   ]
  },
  {
   "source": [
    "## Regression Analysis for t = Three Years"
   ],
   "cell_type": "markdown",
   "metadata": {}
  },
  {
   "cell_type": "code",
   "execution_count": null,
   "metadata": {},
   "outputs": [],
   "source": [
    "threeyresult1 = sm.ols(formula=\"three_y_diff_shareprice ~ ISF + CI\", data=threeyeardata).fit(cov_type='HC1')\n",
    "threeyresult2 = sm.ols(formula=\"three_y_diff_shareprice ~ ISF + CI + NASDAQ + NYSE\", data=threeyeardata).fit(cov_type='HC1')\n",
    "threeyresult3 = sm.ols(formula=\"three_y_diff_shareprice ~ ISF + CI + NASDAQ + NYSE + three_y_diff_volume\", data=threeyeardata).fit(cov_type='HC1')\n",
    "threeyresult4 = sm.ols(formula=\"three_y_diff_shareprice ~ ISF + CI + NASDAQ + NYSE + three_y_diff_volume + three_y_diff_sp500 \", data=threeyeardata).fit(cov_type='HC1')\n",
    "threeyresult5 = sm.ols(formula=\"three_y_diff_shareprice ~ ISF + CI + NASDAQ + NYSE + three_y_diff_volume + three_y_diff_sp500 + ISF:CI + ISF:NASDAQ + ISF:NYSE + ISF:three_y_diff_volume + ISF:three_y_diff_sp500 \", data=threeyeardata).fit(cov_type='HC1')\n",
    "\n",
    "threeyearsummary = Stargazer([threeyresult1, threeyresult2, threeyresult3, threeyresult4, threeyresult5])\n",
    "threeyearsummary.covariate_order(['Intercept', 'ISF', 'CI','NASDAQ','NYSE', 'three_y_diff_volume', 'three_y_diff_sp500','ISF:CI','ISF:NASDAQ','ISF:NYSE','ISF:three_y_diff_volume','ISF:three_y_diff_sp500'])\n",
    "threeyearsummary.add_custom_notes(['[1] Standard Errors are heteroscedasticity robust (HC1)'])\n",
    "threeyearsummary.title(\"Table 8. Regression Output for t = Three Years\")\n",
    "\n",
    "file = open(\"Regression Output:Visualizations/Regression Output/Python/threeyearoutput.html\",\"w\")\n",
    "file.write(threeyearsummary.render_html())\n",
    "file.close()\n",
    "threeyearsummary"
   ]
  }
 ],
 "metadata": {
  "kernelspec": {
   "display_name": "Python 3",
   "language": "python",
   "name": "python3"
  },
  "language_info": {
   "codemirror_mode": {
    "name": "ipython",
    "version": 3
   },
   "file_extension": ".py",
   "mimetype": "text/x-python",
   "name": "python",
   "nbconvert_exporter": "python",
   "pygments_lexer": "ipython3",
   "version": "3.8.3-final"
  }
 },
 "nbformat": 4,
 "nbformat_minor": 4
}