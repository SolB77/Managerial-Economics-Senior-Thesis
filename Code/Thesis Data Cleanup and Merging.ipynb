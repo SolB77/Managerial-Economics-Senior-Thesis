{
 "cells": [
  {
   "cell_type": "code",
   "execution_count": null,
   "metadata": {},
   "outputs": [],
   "source": [
    "#Import libraries\n",
    "import pandas as pd\n",
    "import numpy as np\n",
    "import seaborn as sns\n",
    "import datetime"
   ]
  },
  {
   "cell_type": "code",
   "execution_count": null,
   "metadata": {
    "scrolled": false
   },
   "outputs": [],
   "source": [
    "#Load data matrix\n",
    "tickerdata = pd.read_excel(r'Data/Processed Data Matrix for Thesis.xlsx',engine='openpyxl',dtype=str)\n",
    "tickerdata['CI'] = pd.to_numeric(tickerdata['CI'])\n",
    "tickerdata['ISF'] = pd.to_numeric(tickerdata['ISF'])\n",
    "tickerdata.head()"
   ]
  },
  {
   "cell_type": "code",
   "execution_count": null,
   "metadata": {},
   "outputs": [],
   "source": [
    "#Reshape/melt data matrix to make time an attribute\n",
    "transformedtickerdata = tickerdata.melt(id_vars=['Sharing Economy Firm', 'Incumbent Firms', 'Ticker',\n",
    "       'Exchange', 'CI', 'Market Index', 'ISF', 'SP(Start(t=1))', 'SP(End(t=1))', 'SP(Start(t=3))',\n",
    "       'SP(End(t=3))', 'SP(Start(t=6))', 'SP(End(t=6))', 'SP(Start(t=12))', 'SP(End(t=12))', 'SP(Start(t=24))', 'SP(End(t=24))', 'SP(Start(t=36))', 'SP(End(t=36))'],var_name='t',value_name='Date').drop(columns=['SP(Start(t=1))', 'SP(End(t=1))', 'SP(Start(t=3))',\n",
    "       'SP(End(t=3))', 'SP(Start(t=6))', 'SP(End(t=6))', 'SP(Start(t=12))', 'SP(End(t=12))', 'SP(Start(t=24))', 'SP(End(t=24))', 'SP(Start(t=36))', 'SP(End(t=36))'])\n",
    "transformedtickerdata['Ticker'] = transformedtickerdata['Ticker'].astype(str)\n",
    "transformedtickerdata.tail()"
   ]
  },
  {
   "cell_type": "code",
   "execution_count": null,
   "metadata": {},
   "outputs": [],
   "source": [
    "#Load equity data and transform\n",
    "equitydata = pd.read_excel(r'Data/Bloomberg Equity Data.xlsx', engine='openpyxl',usecols=[0,1,3],sheet_name=None,dtype=str)\n",
    "datalist = []\n",
    "for ticker, data in equitydata.items():\n",
    "    data['Ticker'] = str(ticker)\n",
    "    datalist.append(data)\n",
    "transformedequitydata = pd.concat(datalist,axis=0)\n",
    "transformedequitydata.dropna(axis=1,how='all')\n",
    "transformedequitydata['Last Price'] = pd.to_numeric(transformedequitydata['Last Price'])\n",
    "transformedequitydata.head()"
   ]
  },
  {
   "cell_type": "code",
   "execution_count": null,
   "metadata": {},
   "outputs": [],
   "source": [
    "#Load index data and transform\n",
    "indexdata = pd.read_excel(r'Data/Bloomberg Index Data.xlsx', engine='openpyxl',usecols=[0,1],sheet_name='S&P500',dtype=str)\n",
    "indexdata['Last Price'] = pd.to_numeric(indexdata['Last Price'])\n",
    "indexdata['Date'] = pd.to_datetime(indexdata['Date'])\n",
    "indexdata.head()"
   ]
  },
  {
   "cell_type": "code",
   "execution_count": null,
   "metadata": {},
   "outputs": [],
   "source": [
    "#Merge ticker data with empty matrix\n",
    "merged_data = transformedtickerdata.merge(transformedequitydata, how='left',left_on=['Date','Ticker'],right_on=['Date','Ticker']).dropna(axis=1,how='all').rename(columns={'Last Price':'SP(t)','Volume':'Volume(t)'})\n",
    "merged_data['Volume(t)'] = pd.to_numeric(merged_data['Volume(t)'])\n",
    "merged_data['Date'] = pd.to_datetime(merged_data['Date'])\n",
    "merged_data.reset_index()\n",
    "merged_data.head()"
   ]
  },
  {
   "cell_type": "code",
   "execution_count": null,
   "metadata": {},
   "outputs": [],
   "source": [
    "#Merge index data with rest of data\n",
    "merged_data=merged_data.merge(indexdata,how='left',left_on=['Date'],right_on=['Date']).rename(columns={'Last Price':'S&P500(t)'})\n",
    "merged_data.head()"
   ]
  },
  {
   "cell_type": "code",
   "execution_count": null,
   "metadata": {},
   "outputs": [],
   "source": [
    "#Re-Pivot Data\n",
    "complete_data = merged_data.pivot(index=['Sharing Economy Firm','Incumbent Firms','Ticker','Exchange','CI','Market Index','ISF'],columns=['t'])\n",
    "complete_data.head()"
   ]
  },
  {
   "cell_type": "code",
   "execution_count": null,
   "metadata": {},
   "outputs": [],
   "source": [
    "#Drop Multindex\n",
    "complete_data.columns = ['_'.join(col) for col in complete_data.columns]\n",
    "complete_data.head()"
   ]
  },
  {
   "cell_type": "code",
   "execution_count": null,
   "metadata": {},
   "outputs": [],
   "source": [
    "#Print column names to drop and rename\n",
    "complete_data.columns"
   ]
  },
  {
   "cell_type": "code",
   "execution_count": null,
   "metadata": {},
   "outputs": [],
   "source": [
    "#Drop Reset Index/Rename Columns/Drop Start Dates\n",
    "complete_data = complete_data.reset_index().rename(columns={'SP(t)_End(t=1)':'SP_End(t=1)','SP(t)_End(t=3)':'SP_End(t=3)','SP(t)_End(t=6)':'SP_End(t=6)','SP(t)_End(t=12)':'SP_End(t=12)','SP(t)_End(t=24)':'SP_End(t=24)','SP(t)_End(t=36)':'SP_End(t=36)','SP(t)_Start(t=1)':'SP_Start(t=1)','SP(t)_Start(t=3)':'SP_Start(t=3)','SP(t)_Start(t=6)':'SP_Start(t=6)','SP(t)_Start(t=12)':'SP_Start(t=12)','SP(t)_Start(t=24)':'SP_Start(t=24)','SP(t)_Start(t=36)':'SP_Start(t=36)',\n",
    "'Volume(t)_End(t=1)':'Volume_End(t=1)','Volume(t)_End(t=3)':'Volume_End(t=3)','Volume(t)_End(t=6)':'Volume_End(t=6)','Volume(t)_End(t=12)':'Volume_End(t=12)','Volume(t)_End(t=24)':'Volume_End(t=24)','Volume(t)_End(t=36)':'Volume_End(t=36)','Volume(t)_Start(t=1)':'Volume_Start(t=1)','Volume(t)_Start(t=3)':'Volume_Start(t=3)','Volume(t)_Start(t=6)':'Volume_Start(t=6)','Volume(t)_Start(t=12)':'Volume_Start(t=12)','Volume(t)_Start(t=24)':'Volume_Start(t=24)','Volume(t)_Start(t=36)':'Volume_Start(t=36)',\n",
    "'S&P500(t)_End(t=1)':'S&P500_End(t=1)','S&P500(t)_End(t=3)':'S&P500_End(t=3)','S&P500(t)_End(t=6)':'S&P500_End(t=6)','S&P500(t)_End(t=12)':'S&P500_End(t=12)','S&P500(t)_End(t=24)':'S&P500_End(t=24)','S&P500(t)_End(t=36)':'S&P500_End(t=36)','S&P500(t)_Start(t=1)':'S&P500_Start(t=1)','S&P500(t)_Start(t=3)':'S&P500_Start(t=3)','S&P500(t)_Start(t=6)':'S&P500_Start(t=6)','S&P500(t)_Start(t=12)':'S&P500_Start(t=12)','S&P500(t)_Start(t=24)':'S&P500_Start(t=24)','S&P500(t)_Start(t=36)':'S&P500_Start(t=36)'}).drop(columns=['Date_Start(t=1)', 'Date_Start(t=12)', 'Date_Start(t=24)', 'Date_Start(t=3)', 'Date_Start(t=36)', 'Date_Start(t=6)'])\n",
    "complete_data.head()"
   ]
  },
  {
   "cell_type": "code",
   "execution_count": null,
   "metadata": {},
   "outputs": [],
   "source": [
    "#Add Columns for Share Price Growth Rate % for t=(1,3,6,12,24,36)\n",
    "complete_data['% Change in Share Price (t=1)'] = ((complete_data['SP_End(t=1)']-complete_data['SP_Start(t=1)'])/complete_data['SP_Start(t=1)'])*100\n",
    "complete_data['% Change in Share Price (t=3)'] = ((complete_data['SP_End(t=3)']-complete_data['SP_Start(t=3)'])/complete_data['SP_Start(t=3)'])*100\n",
    "complete_data['% Change in Share Price (t=6)'] = ((complete_data['SP_End(t=6)']-complete_data['SP_Start(t=6)'])/complete_data['SP_Start(t=6)'])*100\n",
    "complete_data['% Change in Share Price (t=12)'] = ((complete_data['SP_End(t=12)']-complete_data['SP_Start(t=12)'])/complete_data['SP_Start(t=12)'])*100\n",
    "complete_data['% Change in Share Price (t=24)'] = ((complete_data['SP_End(t=24)']-complete_data['SP_Start(t=24)'])/complete_data['SP_Start(t=24)'])*100\n",
    "complete_data['% Change in Share Price (t=36)'] = ((complete_data['SP_End(t=36)']-complete_data['SP_Start(t=36)'])/complete_data['SP_Start(t=36)'])*100\n",
    "complete_data.head()"
   ]
  },
  {
   "cell_type": "code",
   "execution_count": null,
   "metadata": {},
   "outputs": [],
   "source": [
    "#Add Columns for Volume Growth Rate % for t=(1,3,6,12,24,36)\n",
    "complete_data['% Change in Volume (t=1)'] = ((complete_data['Volume_End(t=1)']-complete_data['Volume_Start(t=1)'])/complete_data['Volume_Start(t=1)'])*100\n",
    "complete_data['% Change in Volume (t=3)'] = ((complete_data['Volume_End(t=3)']-complete_data['Volume_Start(t=3)'])/complete_data['Volume_Start(t=3)'])*100\n",
    "complete_data['% Change in Volume (t=6)'] = ((complete_data['Volume_End(t=6)']-complete_data['Volume_Start(t=6)'])/complete_data['Volume_Start(t=6)'])*100\n",
    "complete_data['% Change in Volume (t=12)'] = ((complete_data['Volume_End(t=12)']-complete_data['Volume_Start(t=12)'])/complete_data['Volume_Start(t=12)'])*100\n",
    "complete_data['% Change in Volume (t=24)'] = ((complete_data['Volume_End(t=24)']-complete_data['Volume_Start(t=24)'])/complete_data['Volume_Start(t=24)'])*100\n",
    "complete_data['% Change in Volume (t=36)'] = ((complete_data['Volume_End(t=36)']-complete_data['Volume_Start(t=36)'])/complete_data['Volume_Start(t=36)'])*100\n",
    "complete_data.head()"
   ]
  },
  {
   "cell_type": "code",
   "execution_count": null,
   "metadata": {},
   "outputs": [],
   "source": [
    "#Add Columns for S&P500 Growth Rate % for t=(1,3,6,12,24,36)\n",
    "complete_data['% Change in S&P500 (t=1)'] = ((complete_data['S&P500_End(t=1)']-complete_data['S&P500_Start(t=1)'])/complete_data['S&P500_Start(t=1)'])*100\n",
    "complete_data['% Change in S&P500 (t=3)'] = ((complete_data['S&P500_End(t=3)']-complete_data['S&P500_Start(t=3)'])/complete_data['S&P500_Start(t=3)'])*100\n",
    "complete_data['% Change in S&P500 (t=6)'] = ((complete_data['S&P500_End(t=6)']-complete_data['S&P500_Start(t=6)'])/complete_data['S&P500_Start(t=6)'])*100\n",
    "complete_data['% Change in S&P500 (t=12)'] = ((complete_data['S&P500_End(t=12)']-complete_data['S&P500_Start(t=12)'])/complete_data['S&P500_Start(t=12)'])*100\n",
    "complete_data['% Change in S&P500 (t=24)'] = ((complete_data['S&P500_End(t=24)']-complete_data['S&P500_Start(t=24)'])/complete_data['S&P500_Start(t=24)'])*100\n",
    "complete_data['% Change in S&P500 (t=36)'] = ((complete_data['S&P500_End(t=36)']-complete_data['S&P500_Start(t=36)'])/complete_data['S&P500_Start(t=36)'])*100\n",
    "complete_data.head()"
   ]
  },
  {
   "cell_type": "code",
   "execution_count": null,
   "metadata": {},
   "outputs": [],
   "source": [
    "#Convert Exchange to Dummy Variables for either NYSE, NASDAQ, or Other (OTCMKTS, TWSE, and NSE)\n",
    "exchange_dummies = pd.get_dummies(complete_data['Exchange'])\n",
    "complete_data = pd.concat([complete_data,exchange_dummies],axis=1)\n",
    "complete_data['Other'] = complete_data['NYSEARCA']+complete_data['OTCMKTS']\n",
    "complete_data['Sharing Firm Introduced'] = np.where(complete_data['ISF'] == 1, \"Yes\", \"No\")\n",
    "complete_data['Relatedness with Sharing Firm'] = np.where(complete_data['CI'] == 1, \"Closely Related\", \"Less Closely Related\")\n",
    "complete_data = complete_data.drop(columns=['NYSEARCA','OTCMKTS']).sort_values(by=['Sharing Economy Firm','CI'],ascending=[True, False])\n",
    "complete_data.head()"
   ]
  },
  {
   "cell_type": "code",
   "execution_count": null,
   "metadata": {},
   "outputs": [],
   "source": [
    "#Write complete data to Excel and CSV\n",
    "with pd.ExcelWriter('Data/complete_data.xlsx',engine='openpyxl') as writer:\n",
    "    complete_data.to_excel(writer,index=False)\n",
    "complete_data.to_csv('Data/complete_data.csv',index=False)"
   ]
  },
  {
   "cell_type": "code",
   "execution_count": null,
   "metadata": {},
   "outputs": [],
   "source": [
    "#Create STATA ready data\n",
    "stata_data = complete_data[['CI', 'ISF', 'NASDAQ', 'NYSE', 'Other', '% Change in Volume (t=1)', '% Change in Volume (t=3)', '% Change in Volume (t=6)', '% Change in Volume (t=12)',  '% Change in Volume (t=24)',  '% Change in Volume (t=36)', '% Change in Share Price (t=1)', '% Change in Share Price (t=3)', '% Change in Share Price (t=6)', '% Change in Share Price (t=12)', '% Change in Share Price (t=24)', '% Change in Share Price (t=36)', '% Change in S&P500 (t=1)', '% Change in S&P500 (t=3)', '% Change in S&P500 (t=6)', '% Change in S&P500 (t=12)', '% Change in S&P500 (t=24)', '% Change in S&P500 (t=36)','Date_End(t=1)', 'Date_End(t=12)', 'Date_End(t=24)', 'Date_End(t=3)', 'Date_End(t=36)', 'Date_End(t=6)', 'Sharing Firm Introduced','Relatedness with Sharing Firm']].rename(columns={'% Change in Volume (t=1)':'one_m_diff_volume', '% Change in Volume (t=3)':'three_m_diff_volume', '% Change in Volume (t=6)':'six_m_diff_volume', '% Change in Volume (t=12)':'one_y_diff_volume', '% Change in Volume (t=24)':'two_y_diff_volume', '% Change in Volume (t=36)':'three_y_diff_volume', '% Change in Share Price (t=1)':'one_m_diff_shareprice', '% Change in Share Price (t=3)':'three_m_diff_shareprice', '% Change in Share Price (t=6)':'six_m_diff_shareprice', '% Change in Share Price (t=12)':'one_y_diff_shareprice', '% Change in Share Price (t=24)':'two_y_diff_shareprice', '% Change in Share Price (t=36)':'three_y_diff_shareprice', '% Change in S&P500 (t=1)':'one_m_diff_sp500', '% Change in S&P500 (t=3)':'three_m_diff_sp500', '% Change in S&P500 (t=6)':'six_m_diff_sp500', '% Change in S&P500 (t=12)':'one_y_diff_sp500', '% Change in S&P500 (t=24)':'two_y_diff_sp500', '% Change in S&P500 (t=36)':'three_y_diff_sp500'})\n",
    "stata_data['Exchange'] = stata_data[['NASDAQ','NYSE','Other']].idxmax(axis=1)\n",
    "stata_data.head()"
   ]
  },
  {
   "cell_type": "code",
   "execution_count": null,
   "metadata": {},
   "outputs": [],
   "source": [
    "#Write STATA data to Excel and CSV\n",
    "with pd.ExcelWriter('Data/stata_data.xlsx',engine='openpyxl') as writer:\n",
    "    stata_data.to_excel(writer,index=False,)\n",
    "stata_data.to_csv('Data/stata_data.csv',index=False)"
   ]
  }
 ],
 "metadata": {
  "kernelspec": {
   "display_name": "Python 3",
   "language": "python",
   "name": "python3"
  },
  "language_info": {
   "codemirror_mode": {
    "name": "ipython",
    "version": 3
   },
   "file_extension": ".py",
   "mimetype": "text/x-python",
   "name": "python",
   "nbconvert_exporter": "python",
   "pygments_lexer": "ipython3",
   "version": "3.8.3-final"
  }
 },
 "nbformat": 4,
 "nbformat_minor": 4
}