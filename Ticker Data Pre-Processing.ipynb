{
 "metadata": {
  "language_info": {
   "codemirror_mode": {
    "name": "ipython",
    "version": 3
   },
   "file_extension": ".py",
   "mimetype": "text/x-python",
   "name": "python",
   "nbconvert_exporter": "python",
   "pygments_lexer": "ipython3",
   "version": "3.8.3-final"
  },
  "orig_nbformat": 2,
  "kernelspec": {
   "name": "python3",
   "display_name": "Python 3.8.3 64-bit ('base': conda)",
   "metadata": {
    "interpreter": {
     "hash": "d54f36650e22a68b1e16ad067c04252fc93b1d0cce2a522804985f8fa0dd3c9b"
    }
   }
  }
 },
 "nbformat": 4,
 "nbformat_minor": 2,
 "cells": [
  {
   "cell_type": "code",
   "execution_count": 1,
   "metadata": {},
   "outputs": [],
   "source": [
    "#Import libraries\n",
    "import pandas as pd\n",
    "import numpy as np\n",
    "import seaborn as sns"
   ]
  },
  {
   "cell_type": "code",
   "execution_count": 2,
   "metadata": {},
   "outputs": [
    {
     "output_type": "execute_result",
     "data": {
      "text/plain": [
       "  Sharing Economy Firm               Incumbent Firms Ticker  Exchange CI  \\\n",
       "0               Airbnb        Marriott International    MAR    NASDAQ  1   \n",
       "1               Airbnb        Marriott International    MAR    NASDAQ  1   \n",
       "2               Airbnb            iShares Europe ETF    IEV  NYSEARCA  0   \n",
       "3               Airbnb            iShares Europe ETF    IEV  NYSEARCA  0   \n",
       "4                 Bird  Dorel Industries Inc Class B  DIIBF   OTCMKTS  1   \n",
       "\n",
       "  Market Index ISF                    t                  t-1  \\\n",
       "0         IXIC   0  2008-08-31 00:00:00  2008-07-31 00:00:00   \n",
       "1         IXIC   1  2008-08-31 00:00:00  2008-07-31 00:00:00   \n",
       "2          NYA   0  2008-08-31 00:00:00  2008-07-31 00:00:00   \n",
       "3          NYA   1  2008-08-31 00:00:00  2008-07-31 00:00:00   \n",
       "4        OTCQX   0  2017-09-30 00:00:00  2017-08-30 00:00:00   \n",
       "\n",
       "                   t+1  ... SP(Start(t=3)) SP(End(t=3)) SP(Start(t=6))  \\\n",
       "0  2008-09-30 00:00:00  ...            NaN          NaN            NaN   \n",
       "1  2008-09-30 00:00:00  ...            NaN          NaN            NaN   \n",
       "2  2008-09-30 00:00:00  ...            NaN          NaN            NaN   \n",
       "3  2008-09-30 00:00:00  ...            NaN          NaN            NaN   \n",
       "4  2017-10-30 00:00:00  ...            NaN          NaN            NaN   \n",
       "\n",
       "  SP(End(t=6)) SP(Start(t=12)) SP(End(t=12)) SP(Start(t=24)) SP(End(t=24))  \\\n",
       "0          NaN             NaN           NaN             NaN           NaN   \n",
       "1          NaN             NaN           NaN             NaN           NaN   \n",
       "2          NaN             NaN           NaN             NaN           NaN   \n",
       "3          NaN             NaN           NaN             NaN           NaN   \n",
       "4          NaN             NaN           NaN             NaN           NaN   \n",
       "\n",
       "  SP(Start(t=36)) SP(End(t=36))  \n",
       "0             NaN           NaN  \n",
       "1             NaN           NaN  \n",
       "2             NaN           NaN  \n",
       "3             NaN           NaN  \n",
       "4             NaN           NaN  \n",
       "\n",
       "[5 rows x 44 columns]"
      ],
      "text/html": "<div>\n<style scoped>\n    .dataframe tbody tr th:only-of-type {\n        vertical-align: middle;\n    }\n\n    .dataframe tbody tr th {\n        vertical-align: top;\n    }\n\n    .dataframe thead th {\n        text-align: right;\n    }\n</style>\n<table border=\"1\" class=\"dataframe\">\n  <thead>\n    <tr style=\"text-align: right;\">\n      <th></th>\n      <th>Sharing Economy Firm</th>\n      <th>Incumbent Firms</th>\n      <th>Ticker</th>\n      <th>Exchange</th>\n      <th>CI</th>\n      <th>Market Index</th>\n      <th>ISF</th>\n      <th>t</th>\n      <th>t-1</th>\n      <th>t+1</th>\n      <th>...</th>\n      <th>SP(Start(t=3))</th>\n      <th>SP(End(t=3))</th>\n      <th>SP(Start(t=6))</th>\n      <th>SP(End(t=6))</th>\n      <th>SP(Start(t=12))</th>\n      <th>SP(End(t=12))</th>\n      <th>SP(Start(t=24))</th>\n      <th>SP(End(t=24))</th>\n      <th>SP(Start(t=36))</th>\n      <th>SP(End(t=36))</th>\n    </tr>\n  </thead>\n  <tbody>\n    <tr>\n      <th>0</th>\n      <td>Airbnb</td>\n      <td>Marriott International</td>\n      <td>MAR</td>\n      <td>NASDAQ</td>\n      <td>1</td>\n      <td>IXIC</td>\n      <td>0</td>\n      <td>2008-08-31 00:00:00</td>\n      <td>2008-07-31 00:00:00</td>\n      <td>2008-09-30 00:00:00</td>\n      <td>...</td>\n      <td>NaN</td>\n      <td>NaN</td>\n      <td>NaN</td>\n      <td>NaN</td>\n      <td>NaN</td>\n      <td>NaN</td>\n      <td>NaN</td>\n      <td>NaN</td>\n      <td>NaN</td>\n      <td>NaN</td>\n    </tr>\n    <tr>\n      <th>1</th>\n      <td>Airbnb</td>\n      <td>Marriott International</td>\n      <td>MAR</td>\n      <td>NASDAQ</td>\n      <td>1</td>\n      <td>IXIC</td>\n      <td>1</td>\n      <td>2008-08-31 00:00:00</td>\n      <td>2008-07-31 00:00:00</td>\n      <td>2008-09-30 00:00:00</td>\n      <td>...</td>\n      <td>NaN</td>\n      <td>NaN</td>\n      <td>NaN</td>\n      <td>NaN</td>\n      <td>NaN</td>\n      <td>NaN</td>\n      <td>NaN</td>\n      <td>NaN</td>\n      <td>NaN</td>\n      <td>NaN</td>\n    </tr>\n    <tr>\n      <th>2</th>\n      <td>Airbnb</td>\n      <td>iShares Europe ETF</td>\n      <td>IEV</td>\n      <td>NYSEARCA</td>\n      <td>0</td>\n      <td>NYA</td>\n      <td>0</td>\n      <td>2008-08-31 00:00:00</td>\n      <td>2008-07-31 00:00:00</td>\n      <td>2008-09-30 00:00:00</td>\n      <td>...</td>\n      <td>NaN</td>\n      <td>NaN</td>\n      <td>NaN</td>\n      <td>NaN</td>\n      <td>NaN</td>\n      <td>NaN</td>\n      <td>NaN</td>\n      <td>NaN</td>\n      <td>NaN</td>\n      <td>NaN</td>\n    </tr>\n    <tr>\n      <th>3</th>\n      <td>Airbnb</td>\n      <td>iShares Europe ETF</td>\n      <td>IEV</td>\n      <td>NYSEARCA</td>\n      <td>0</td>\n      <td>NYA</td>\n      <td>1</td>\n      <td>2008-08-31 00:00:00</td>\n      <td>2008-07-31 00:00:00</td>\n      <td>2008-09-30 00:00:00</td>\n      <td>...</td>\n      <td>NaN</td>\n      <td>NaN</td>\n      <td>NaN</td>\n      <td>NaN</td>\n      <td>NaN</td>\n      <td>NaN</td>\n      <td>NaN</td>\n      <td>NaN</td>\n      <td>NaN</td>\n      <td>NaN</td>\n    </tr>\n    <tr>\n      <th>4</th>\n      <td>Bird</td>\n      <td>Dorel Industries Inc Class B</td>\n      <td>DIIBF</td>\n      <td>OTCMKTS</td>\n      <td>1</td>\n      <td>OTCQX</td>\n      <td>0</td>\n      <td>2017-09-30 00:00:00</td>\n      <td>2017-08-30 00:00:00</td>\n      <td>2017-10-30 00:00:00</td>\n      <td>...</td>\n      <td>NaN</td>\n      <td>NaN</td>\n      <td>NaN</td>\n      <td>NaN</td>\n      <td>NaN</td>\n      <td>NaN</td>\n      <td>NaN</td>\n      <td>NaN</td>\n      <td>NaN</td>\n      <td>NaN</td>\n    </tr>\n  </tbody>\n</table>\n<p>5 rows × 44 columns</p>\n</div>"
     },
     "metadata": {},
     "execution_count": 2
    }
   ],
   "source": [
    "#Load Data with New Design Matrix\n",
    "data = pd.read_excel(r'Data/Raw Data Matrix for Thesis.xlsx',engine='openpyxl',dtype=str)\n",
    "data.head()"
   ]
  },
  {
   "cell_type": "code",
   "execution_count": 3,
   "metadata": {},
   "outputs": [],
   "source": [
    "#Put Start and End Dates for Each of the Time Lengths into One Column for Each Time and Time Period Combination\n",
    "data['Start(t=1)'] = np.where(data['ISF']=='0', data['t-1'], data['t'])\n",
    "data['End(t=1)'] = np.where(data['ISF']=='0', data['t'], data['t+1'])\n",
    "data['Start(t=3)'] = np.where(data['ISF']=='0', data['t-3'], data['t'])\n",
    "data['End(t=3)'] = np.where(data['ISF']=='0', data['t'], data['t+3'])\n",
    "data['Start(t=6)'] = np.where(data['ISF']=='0', data['t-6'], data['t'])\n",
    "data['End(t=6)'] = np.where(data['ISF']=='0', data['t'], data['t+6'])\n",
    "data['Start(t=12)'] = np.where(data['ISF']=='0', data['t-12'], data['t'])\n",
    "data['End(t=12)'] = np.where(data['ISF']=='0', data['t'], data['t+12'])\n",
    "data['Start(t=24)'] = np.where(data['ISF']=='0', data['t-24'], data['t'])\n",
    "data['End(t=24)'] = np.where(data['ISF']=='0', data['t'], data['t+24'])\n",
    "data['Start(t=36)'] = np.where(data['ISF']=='0', data['t-36'], data['t'])\n",
    "data['End(t=36)'] = np.where(data['ISF']=='0', data['t'], data['t+36'])"
   ]
  },
  {
   "cell_type": "code",
   "execution_count": 4,
   "metadata": {},
   "outputs": [
    {
     "output_type": "execute_result",
     "data": {
      "text/plain": [
       "Index(['Sharing Economy Firm', 'Incumbent Firms', 'Ticker', 'Exchange', 'CI',\n",
       "       'Market Index', 'ISF', 't', 't-1', 't+1', 'Start(t=1)', 'End(t=1)',\n",
       "       't-3', 't+3', 'Start(t=3)', 'End(t=3)', 't-6', 't+6', 'Start(t=6)',\n",
       "       'End(t=6)', 't-12', 't+12', 'Start(t=12)', 'End(t=12)', 't-24', 't+24',\n",
       "       'Start(t=24)', 'End(t=24)', 't-36', 't+36', 'Start(t=36)', 'End(t=36)',\n",
       "       'SP(Start(t=1))', 'SP(End(t=1))', 'SP(Start(t=3))', 'SP(End(t=3))',\n",
       "       'SP(Start(t=6))', 'SP(End(t=6))', 'SP(Start(t=12))', 'SP(End(t=12))',\n",
       "       'SP(Start(t=24))', 'SP(End(t=24))', 'SP(Start(t=36))', 'SP(End(t=36))'],\n",
       "      dtype='object')"
      ]
     },
     "metadata": {},
     "execution_count": 4
    }
   ],
   "source": [
    "#Print column names to drop\n",
    "data.columns"
   ]
  },
  {
   "cell_type": "code",
   "execution_count": 5,
   "metadata": {},
   "outputs": [
    {
     "output_type": "execute_result",
     "data": {
      "text/plain": [
       "  Sharing Economy Firm               Incumbent Firms Ticker  Exchange CI  \\\n",
       "0               Airbnb        Marriott International    MAR    NASDAQ  1   \n",
       "1               Airbnb        Marriott International    MAR    NASDAQ  1   \n",
       "2               Airbnb            iShares Europe ETF    IEV  NYSEARCA  0   \n",
       "3               Airbnb            iShares Europe ETF    IEV  NYSEARCA  0   \n",
       "4                 Bird  Dorel Industries Inc Class B  DIIBF   OTCMKTS  1   \n",
       "\n",
       "  Market Index ISF           Start(t=1)             End(t=1)  \\\n",
       "0         IXIC   0  2008-07-31 00:00:00  2008-08-31 00:00:00   \n",
       "1         IXIC   1  2008-08-31 00:00:00  2008-09-30 00:00:00   \n",
       "2          NYA   0  2008-07-31 00:00:00  2008-08-31 00:00:00   \n",
       "3          NYA   1  2008-08-31 00:00:00  2008-09-30 00:00:00   \n",
       "4        OTCQX   0  2017-08-30 00:00:00  2017-09-30 00:00:00   \n",
       "\n",
       "            Start(t=3)  ... SP(Start(t=3)) SP(End(t=3)) SP(Start(t=6))  \\\n",
       "0  2008-05-31 00:00:00  ...            NaN          NaN            NaN   \n",
       "1  2008-08-31 00:00:00  ...            NaN          NaN            NaN   \n",
       "2  2008-05-31 00:00:00  ...            NaN          NaN            NaN   \n",
       "3  2008-08-31 00:00:00  ...            NaN          NaN            NaN   \n",
       "4  2017-06-30 00:00:00  ...            NaN          NaN            NaN   \n",
       "\n",
       "  SP(End(t=6)) SP(Start(t=12)) SP(End(t=12)) SP(Start(t=24)) SP(End(t=24))  \\\n",
       "0          NaN             NaN           NaN             NaN           NaN   \n",
       "1          NaN             NaN           NaN             NaN           NaN   \n",
       "2          NaN             NaN           NaN             NaN           NaN   \n",
       "3          NaN             NaN           NaN             NaN           NaN   \n",
       "4          NaN             NaN           NaN             NaN           NaN   \n",
       "\n",
       "  SP(Start(t=36)) SP(End(t=36))  \n",
       "0             NaN           NaN  \n",
       "1             NaN           NaN  \n",
       "2             NaN           NaN  \n",
       "3             NaN           NaN  \n",
       "4             NaN           NaN  \n",
       "\n",
       "[5 rows x 31 columns]"
      ],
      "text/html": "<div>\n<style scoped>\n    .dataframe tbody tr th:only-of-type {\n        vertical-align: middle;\n    }\n\n    .dataframe tbody tr th {\n        vertical-align: top;\n    }\n\n    .dataframe thead th {\n        text-align: right;\n    }\n</style>\n<table border=\"1\" class=\"dataframe\">\n  <thead>\n    <tr style=\"text-align: right;\">\n      <th></th>\n      <th>Sharing Economy Firm</th>\n      <th>Incumbent Firms</th>\n      <th>Ticker</th>\n      <th>Exchange</th>\n      <th>CI</th>\n      <th>Market Index</th>\n      <th>ISF</th>\n      <th>Start(t=1)</th>\n      <th>End(t=1)</th>\n      <th>Start(t=3)</th>\n      <th>...</th>\n      <th>SP(Start(t=3))</th>\n      <th>SP(End(t=3))</th>\n      <th>SP(Start(t=6))</th>\n      <th>SP(End(t=6))</th>\n      <th>SP(Start(t=12))</th>\n      <th>SP(End(t=12))</th>\n      <th>SP(Start(t=24))</th>\n      <th>SP(End(t=24))</th>\n      <th>SP(Start(t=36))</th>\n      <th>SP(End(t=36))</th>\n    </tr>\n  </thead>\n  <tbody>\n    <tr>\n      <th>0</th>\n      <td>Airbnb</td>\n      <td>Marriott International</td>\n      <td>MAR</td>\n      <td>NASDAQ</td>\n      <td>1</td>\n      <td>IXIC</td>\n      <td>0</td>\n      <td>2008-07-31 00:00:00</td>\n      <td>2008-08-31 00:00:00</td>\n      <td>2008-05-31 00:00:00</td>\n      <td>...</td>\n      <td>NaN</td>\n      <td>NaN</td>\n      <td>NaN</td>\n      <td>NaN</td>\n      <td>NaN</td>\n      <td>NaN</td>\n      <td>NaN</td>\n      <td>NaN</td>\n      <td>NaN</td>\n      <td>NaN</td>\n    </tr>\n    <tr>\n      <th>1</th>\n      <td>Airbnb</td>\n      <td>Marriott International</td>\n      <td>MAR</td>\n      <td>NASDAQ</td>\n      <td>1</td>\n      <td>IXIC</td>\n      <td>1</td>\n      <td>2008-08-31 00:00:00</td>\n      <td>2008-09-30 00:00:00</td>\n      <td>2008-08-31 00:00:00</td>\n      <td>...</td>\n      <td>NaN</td>\n      <td>NaN</td>\n      <td>NaN</td>\n      <td>NaN</td>\n      <td>NaN</td>\n      <td>NaN</td>\n      <td>NaN</td>\n      <td>NaN</td>\n      <td>NaN</td>\n      <td>NaN</td>\n    </tr>\n    <tr>\n      <th>2</th>\n      <td>Airbnb</td>\n      <td>iShares Europe ETF</td>\n      <td>IEV</td>\n      <td>NYSEARCA</td>\n      <td>0</td>\n      <td>NYA</td>\n      <td>0</td>\n      <td>2008-07-31 00:00:00</td>\n      <td>2008-08-31 00:00:00</td>\n      <td>2008-05-31 00:00:00</td>\n      <td>...</td>\n      <td>NaN</td>\n      <td>NaN</td>\n      <td>NaN</td>\n      <td>NaN</td>\n      <td>NaN</td>\n      <td>NaN</td>\n      <td>NaN</td>\n      <td>NaN</td>\n      <td>NaN</td>\n      <td>NaN</td>\n    </tr>\n    <tr>\n      <th>3</th>\n      <td>Airbnb</td>\n      <td>iShares Europe ETF</td>\n      <td>IEV</td>\n      <td>NYSEARCA</td>\n      <td>0</td>\n      <td>NYA</td>\n      <td>1</td>\n      <td>2008-08-31 00:00:00</td>\n      <td>2008-09-30 00:00:00</td>\n      <td>2008-08-31 00:00:00</td>\n      <td>...</td>\n      <td>NaN</td>\n      <td>NaN</td>\n      <td>NaN</td>\n      <td>NaN</td>\n      <td>NaN</td>\n      <td>NaN</td>\n      <td>NaN</td>\n      <td>NaN</td>\n      <td>NaN</td>\n      <td>NaN</td>\n    </tr>\n    <tr>\n      <th>4</th>\n      <td>Bird</td>\n      <td>Dorel Industries Inc Class B</td>\n      <td>DIIBF</td>\n      <td>OTCMKTS</td>\n      <td>1</td>\n      <td>OTCQX</td>\n      <td>0</td>\n      <td>2017-08-30 00:00:00</td>\n      <td>2017-09-30 00:00:00</td>\n      <td>2017-06-30 00:00:00</td>\n      <td>...</td>\n      <td>NaN</td>\n      <td>NaN</td>\n      <td>NaN</td>\n      <td>NaN</td>\n      <td>NaN</td>\n      <td>NaN</td>\n      <td>NaN</td>\n      <td>NaN</td>\n      <td>NaN</td>\n      <td>NaN</td>\n    </tr>\n  </tbody>\n</table>\n<p>5 rows × 31 columns</p>\n</div>"
     },
     "metadata": {},
     "execution_count": 5
    }
   ],
   "source": [
    "#Drop Extra Columns\n",
    "data = data.drop(columns=['t', 't-1', 't+1', 't-3', 't+3', 't-6', 't+6', 't-12', 't+12', 't-24', 't+24', 't-36', 't+36'])\n",
    "data.head()"
   ]
  },
  {
   "cell_type": "code",
   "execution_count": 6,
   "metadata": {},
   "outputs": [],
   "source": [
    "#Write Processed Data to Excel\n",
    "with pd.ExcelWriter(r'Data/Processed Data Matrix for Thesis.xlsx', engine='openpyxl') as writer:\n",
    "    data.to_excel(writer, index=False)"
   ]
  }
 ]
}