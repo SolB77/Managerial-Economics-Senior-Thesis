{
 "metadata": {
  "language_info": {
   "codemirror_mode": {
    "name": "ipython",
    "version": 3
   },
   "file_extension": ".py",
   "mimetype": "text/x-python",
   "name": "python",
   "nbconvert_exporter": "python",
   "pygments_lexer": "ipython3",
   "version": "3.8.3"
  },
  "orig_nbformat": 2,
  "kernelspec": {
   "name": "python3",
   "display_name": "Python 3.8.3 64-bit ('base': conda)",
   "metadata": {
    "interpreter": {
     "hash": "d54f36650e22a68b1e16ad067c04252fc93b1d0cce2a522804985f8fa0dd3c9b"
    }
   }
  }
 },
 "nbformat": 4,
 "nbformat_minor": 2,
 "cells": [
  {
   "cell_type": "code",
   "execution_count": 1,
   "metadata": {},
   "outputs": [],
   "source": [
    "#Import libraries\n",
    "import pandas as pd\n",
    "import numpy as np\n",
    "import seaborn as sns"
   ]
  },
  {
   "cell_type": "code",
   "execution_count": 2,
   "metadata": {},
   "outputs": [
    {
     "output_type": "stream",
     "name": "stdout",
     "text": [
      "  Sharing Economy Firm             Incumbent Firms Ticker Exchange CI  \\\n0               Airbnb      Marriott International    MAR   NASDAQ  1   \n1               Airbnb      Marriott International    MAR   NASDAQ  1   \n2               Airbnb             Las Vegas Sands    LVS     NYSE  0   \n3               Airbnb             Las Vegas Sands    LVS     NYSE  0   \n4                 Bird  Giant Manufacturing Co Ltd   9921     TWSE  1   \n\n  Market Index ISF                    t                  t-1  \\\n0         IXIC   0  2008-08-31 00:00:00  2008-07-31 00:00:00   \n1         IXIC   1  2008-08-31 00:00:00  2008-07-31 00:00:00   \n2          NYA   0  2008-08-31 00:00:00  2008-07-31 00:00:00   \n3          NYA   1  2008-08-31 00:00:00  2008-07-31 00:00:00   \n4        TAIEX   0  2017-09-30 00:00:00  2017-08-30 00:00:00   \n\n                   t+1  ... Start(t=12) End(t=12) SP(Start(t=1)) SP(End(t=1))  \\\n0  2008-09-30 00:00:00  ...         NaN       NaN            NaN          NaN   \n1  2008-09-30 00:00:00  ...         NaN       NaN            NaN          NaN   \n2  2008-09-30 00:00:00  ...         NaN       NaN            NaN          NaN   \n3  2008-09-30 00:00:00  ...         NaN       NaN            NaN          NaN   \n4  2017-10-30 00:00:00  ...         NaN       NaN            NaN          NaN   \n\n  SP(Start(t=3)) SP(End(t=3)) SP(Start(t=6)) SP(End(t=6)) SP(Start(t=12))  \\\n0            NaN          NaN            NaN          NaN             NaN   \n1            NaN          NaN            NaN          NaN             NaN   \n2            NaN          NaN            NaN          NaN             NaN   \n3            NaN          NaN            NaN          NaN             NaN   \n4            NaN          NaN            NaN          NaN             NaN   \n\n  SP(End(t=12))  \n0           NaN  \n1           NaN  \n2           NaN  \n3           NaN  \n4           NaN  \n\n[5 rows x 32 columns]\n"
     ]
    }
   ],
   "source": [
    "#Load tickerdata\n",
    "data = pd.read_excel(r'Data for Thesis New Design Matrix.xlsx',engine='openpyxl',dtype=str)\n",
    "print(data.head())"
   ]
  },
  {
   "cell_type": "code",
   "execution_count": 3,
   "metadata": {},
   "outputs": [],
   "source": [
    "#Put Start and End Dates for Each of the Time Lengths into One Column for Each Time and Time Period Combination\n",
    "data['Start(t=1)'] = np.where(data['ISF']=='0', data['t-1'], data['t'])\n",
    "data['End(t=1)'] = np.where(data['ISF']=='0', data['t'], data['t+1'])\n",
    "data['Start(t=3)'] = np.where(data['ISF']=='0', data['t-3'], data['t'])\n",
    "data['End(t=3)'] = np.where(data['ISF']=='0', data['t'], data['t+3'])\n",
    "data['Start(t=6)'] = np.where(data['ISF']=='0', data['t-6'], data['t'])\n",
    "data['End(t=6)'] = np.where(data['ISF']=='0', data['t'], data['t+6'])\n",
    "data['Start(t=12)'] = np.where(data['ISF']=='0', data['t-12'], data['t'])\n",
    "data['End(t=12)'] = np.where(data['ISF']=='0', data['t'], data['t+12'])"
   ]
  },
  {
   "cell_type": "code",
   "execution_count": 4,
   "metadata": {},
   "outputs": [
    {
     "output_type": "execute_result",
     "data": {
      "text/plain": [
       "Index(['Sharing Economy Firm', 'Incumbent Firms', 'Ticker', 'Exchange', 'CI',\n",
       "       'Market Index', 'ISF', 't', 't-1', 't+1', 'Start(t=1)', 'End(t=1)',\n",
       "       't-3', 't+3', 'Start(t=3)', 'End(t=3)', 't-6', 't+6', 'Start(t=6)',\n",
       "       'End(t=6)', 't-12', 't+12', 'Start(t=12)', 'End(t=12)',\n",
       "       'SP(Start(t=1))', 'SP(End(t=1))', 'SP(Start(t=3))', 'SP(End(t=3))',\n",
       "       'SP(Start(t=6))', 'SP(End(t=6))', 'SP(Start(t=12))', 'SP(End(t=12))'],\n",
       "      dtype='object')"
      ]
     },
     "metadata": {},
     "execution_count": 4
    }
   ],
   "source": [
    "data.columns"
   ]
  },
  {
   "cell_type": "code",
   "execution_count": 5,
   "metadata": {},
   "outputs": [],
   "source": [
    "data = data.drop(columns=['t', 't-1', 't+1', 't-3', 't+3', 't-6', 't+6', 't-12', 't+12'])"
   ]
  },
  {
   "cell_type": "code",
   "execution_count": 6,
   "metadata": {},
   "outputs": [
    {
     "output_type": "execute_result",
     "data": {
      "text/plain": [
       "  Sharing Economy Firm             Incumbent Firms Ticker Exchange CI  \\\n",
       "0               Airbnb      Marriott International    MAR   NASDAQ  1   \n",
       "1               Airbnb      Marriott International    MAR   NASDAQ  1   \n",
       "2               Airbnb             Las Vegas Sands    LVS     NYSE  0   \n",
       "3               Airbnb             Las Vegas Sands    LVS     NYSE  0   \n",
       "4                 Bird  Giant Manufacturing Co Ltd   9921     TWSE  1   \n",
       "\n",
       "  Market Index ISF           Start(t=1)             End(t=1)  \\\n",
       "0         IXIC   0  2008-07-31 00:00:00  2008-08-31 00:00:00   \n",
       "1         IXIC   1  2008-08-31 00:00:00  2008-09-30 00:00:00   \n",
       "2          NYA   0  2008-07-31 00:00:00  2008-08-31 00:00:00   \n",
       "3          NYA   1  2008-08-31 00:00:00  2008-09-30 00:00:00   \n",
       "4        TAIEX   0  2017-08-30 00:00:00  2017-09-30 00:00:00   \n",
       "\n",
       "            Start(t=3)  ...          Start(t=12)            End(t=12)  \\\n",
       "0  2008-05-31 00:00:00  ...  2007-08-31 00:00:00  2008-08-31 00:00:00   \n",
       "1  2008-08-31 00:00:00  ...  2008-08-31 00:00:00  2009-08-31 00:00:00   \n",
       "2  2008-05-31 00:00:00  ...  2007-08-31 00:00:00  2008-08-31 00:00:00   \n",
       "3  2008-08-31 00:00:00  ...  2008-08-31 00:00:00  2009-08-31 00:00:00   \n",
       "4  2017-06-30 00:00:00  ...  2016-09-30 00:00:00  2017-09-30 00:00:00   \n",
       "\n",
       "  SP(Start(t=1)) SP(End(t=1)) SP(Start(t=3)) SP(End(t=3)) SP(Start(t=6))  \\\n",
       "0            NaN          NaN            NaN          NaN            NaN   \n",
       "1            NaN          NaN            NaN          NaN            NaN   \n",
       "2            NaN          NaN            NaN          NaN            NaN   \n",
       "3            NaN          NaN            NaN          NaN            NaN   \n",
       "4            NaN          NaN            NaN          NaN            NaN   \n",
       "\n",
       "  SP(End(t=6)) SP(Start(t=12)) SP(End(t=12))  \n",
       "0          NaN             NaN           NaN  \n",
       "1          NaN             NaN           NaN  \n",
       "2          NaN             NaN           NaN  \n",
       "3          NaN             NaN           NaN  \n",
       "4          NaN             NaN           NaN  \n",
       "\n",
       "[5 rows x 23 columns]"
      ],
      "text/html": "<div>\n<style scoped>\n    .dataframe tbody tr th:only-of-type {\n        vertical-align: middle;\n    }\n\n    .dataframe tbody tr th {\n        vertical-align: top;\n    }\n\n    .dataframe thead th {\n        text-align: right;\n    }\n</style>\n<table border=\"1\" class=\"dataframe\">\n  <thead>\n    <tr style=\"text-align: right;\">\n      <th></th>\n      <th>Sharing Economy Firm</th>\n      <th>Incumbent Firms</th>\n      <th>Ticker</th>\n      <th>Exchange</th>\n      <th>CI</th>\n      <th>Market Index</th>\n      <th>ISF</th>\n      <th>Start(t=1)</th>\n      <th>End(t=1)</th>\n      <th>Start(t=3)</th>\n      <th>...</th>\n      <th>Start(t=12)</th>\n      <th>End(t=12)</th>\n      <th>SP(Start(t=1))</th>\n      <th>SP(End(t=1))</th>\n      <th>SP(Start(t=3))</th>\n      <th>SP(End(t=3))</th>\n      <th>SP(Start(t=6))</th>\n      <th>SP(End(t=6))</th>\n      <th>SP(Start(t=12))</th>\n      <th>SP(End(t=12))</th>\n    </tr>\n  </thead>\n  <tbody>\n    <tr>\n      <th>0</th>\n      <td>Airbnb</td>\n      <td>Marriott International</td>\n      <td>MAR</td>\n      <td>NASDAQ</td>\n      <td>1</td>\n      <td>IXIC</td>\n      <td>0</td>\n      <td>2008-07-31 00:00:00</td>\n      <td>2008-08-31 00:00:00</td>\n      <td>2008-05-31 00:00:00</td>\n      <td>...</td>\n      <td>2007-08-31 00:00:00</td>\n      <td>2008-08-31 00:00:00</td>\n      <td>NaN</td>\n      <td>NaN</td>\n      <td>NaN</td>\n      <td>NaN</td>\n      <td>NaN</td>\n      <td>NaN</td>\n      <td>NaN</td>\n      <td>NaN</td>\n    </tr>\n    <tr>\n      <th>1</th>\n      <td>Airbnb</td>\n      <td>Marriott International</td>\n      <td>MAR</td>\n      <td>NASDAQ</td>\n      <td>1</td>\n      <td>IXIC</td>\n      <td>1</td>\n      <td>2008-08-31 00:00:00</td>\n      <td>2008-09-30 00:00:00</td>\n      <td>2008-08-31 00:00:00</td>\n      <td>...</td>\n      <td>2008-08-31 00:00:00</td>\n      <td>2009-08-31 00:00:00</td>\n      <td>NaN</td>\n      <td>NaN</td>\n      <td>NaN</td>\n      <td>NaN</td>\n      <td>NaN</td>\n      <td>NaN</td>\n      <td>NaN</td>\n      <td>NaN</td>\n    </tr>\n    <tr>\n      <th>2</th>\n      <td>Airbnb</td>\n      <td>Las Vegas Sands</td>\n      <td>LVS</td>\n      <td>NYSE</td>\n      <td>0</td>\n      <td>NYA</td>\n      <td>0</td>\n      <td>2008-07-31 00:00:00</td>\n      <td>2008-08-31 00:00:00</td>\n      <td>2008-05-31 00:00:00</td>\n      <td>...</td>\n      <td>2007-08-31 00:00:00</td>\n      <td>2008-08-31 00:00:00</td>\n      <td>NaN</td>\n      <td>NaN</td>\n      <td>NaN</td>\n      <td>NaN</td>\n      <td>NaN</td>\n      <td>NaN</td>\n      <td>NaN</td>\n      <td>NaN</td>\n    </tr>\n    <tr>\n      <th>3</th>\n      <td>Airbnb</td>\n      <td>Las Vegas Sands</td>\n      <td>LVS</td>\n      <td>NYSE</td>\n      <td>0</td>\n      <td>NYA</td>\n      <td>1</td>\n      <td>2008-08-31 00:00:00</td>\n      <td>2008-09-30 00:00:00</td>\n      <td>2008-08-31 00:00:00</td>\n      <td>...</td>\n      <td>2008-08-31 00:00:00</td>\n      <td>2009-08-31 00:00:00</td>\n      <td>NaN</td>\n      <td>NaN</td>\n      <td>NaN</td>\n      <td>NaN</td>\n      <td>NaN</td>\n      <td>NaN</td>\n      <td>NaN</td>\n      <td>NaN</td>\n    </tr>\n    <tr>\n      <th>4</th>\n      <td>Bird</td>\n      <td>Giant Manufacturing Co Ltd</td>\n      <td>9921</td>\n      <td>TWSE</td>\n      <td>1</td>\n      <td>TAIEX</td>\n      <td>0</td>\n      <td>2017-08-30 00:00:00</td>\n      <td>2017-09-30 00:00:00</td>\n      <td>2017-06-30 00:00:00</td>\n      <td>...</td>\n      <td>2016-09-30 00:00:00</td>\n      <td>2017-09-30 00:00:00</td>\n      <td>NaN</td>\n      <td>NaN</td>\n      <td>NaN</td>\n      <td>NaN</td>\n      <td>NaN</td>\n      <td>NaN</td>\n      <td>NaN</td>\n      <td>NaN</td>\n    </tr>\n  </tbody>\n</table>\n<p>5 rows × 23 columns</p>\n</div>"
     },
     "metadata": {},
     "execution_count": 6
    }
   ],
   "source": [
    "data.head()"
   ]
  }
 ]
}